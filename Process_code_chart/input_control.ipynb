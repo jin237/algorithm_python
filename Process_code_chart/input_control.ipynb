{
 "cells": [
  {
   "cell_type": "code",
   "execution_count": 6,
   "metadata": {
    "scrolled": true
   },
   "outputs": [
    {
     "name": "stdout",
     "output_type": "stream",
     "text": [
      "we can enter string type\n",
      "type is : <class 'str'>\n"
     ]
    }
   ],
   "source": [
    "# standard input\n",
    "std = input()\n",
    "print(\"type is :\", type(std))"
   ]
  },
  {
   "cell_type": "code",
   "execution_count": 12,
   "metadata": {},
   "outputs": [
    {
     "name": "stdout",
     "output_type": "stream",
     "text": [
      "3\n",
      "type is : <class 'int'>\n"
     ]
    }
   ],
   "source": [
    "# int input\n",
    "integer = int(input())\n",
    "print(\"type is :\", type(integer))"
   ]
  },
  {
   "cell_type": "code",
   "execution_count": 15,
   "metadata": {},
   "outputs": [
    {
     "name": "stdout",
     "output_type": "stream",
     "text": [
      "1.7976931348623157e+308\n",
      "3.5\n"
     ]
    }
   ],
   "source": [
    "import sys\n",
    "# can print fmax value by \"float\"\n",
    "print(sys.float_info.max)\n",
    "# float input \n",
    "float_val = float(input())"
   ]
  },
  {
   "cell_type": "code",
   "execution_count": 16,
   "metadata": {},
   "outputs": [
    {
     "name": "stdout",
     "output_type": "stream",
     "text": [
      "Enter \"over\" then finish\n",
      "Enter value: x\n",
      "Enter value: y\n",
      "Enter value: z\n",
      "Enter value: over\n",
      "FINISH\n",
      "['x', 'y', 'z']\n"
     ]
    }
   ],
   "source": [
    "# multiple input \n",
    "# using list func. and while sentence\n",
    "l = []\n",
    "\n",
    "print('Enter \"over\" then finish')\n",
    "while True:\n",
    "    val = input('Enter value: ')\n",
    "    if val == 'over':\n",
    "        print('FINISH')\n",
    "        break\n",
    "    l.append(val)\n",
    "\n",
    "print(l)"
   ]
  },
  {
   "cell_type": "code",
   "execution_count": 20,
   "metadata": {},
   "outputs": [
    {
     "name": "stdout",
     "output_type": "stream",
     "text": [
      "3\n",
      "a 3 6 2 5\n",
      "b 2 6 1 4\n",
      "c 23 6 23 2\n",
      "[['a', '3', '6', '2', '5'], ['b', '2', '6', '1', '4'], ['c', '23', '6', '23', '2']]\n"
     ]
    }
   ],
   "source": [
    "# multiple input \n",
    "# using list func. and while sentence\n",
    "\n",
    "for_list = []\n",
    "# n sentences input\n",
    "n = int(input())\n",
    "\n",
    "for i in range(n):\n",
    "    num = input().split() \n",
    "    for_list.append(num)\n",
    "    \n",
    "print(for_list)"
   ]
  },
  {
   "cell_type": "code",
   "execution_count": 35,
   "metadata": {},
   "outputs": [
    {
     "name": "stdout",
     "output_type": "stream",
     "text": [
      "15\n"
     ]
    }
   ],
   "source": [
    "# the case that each lows have same elements\n",
    "all_elements = len(for_list) * len(for_list[1])\n",
    "print(all_elements)"
   ]
  },
  {
   "cell_type": "code",
   "execution_count": null,
   "metadata": {},
   "outputs": [],
   "source": [
    "import numpy as np\n",
    "np_list = []\n",
    "\n",
    "n = int(input())\n",
    "#=>3\n",
    "\n",
    "for i in range(n):\n",
    "    number = input().split()\n",
    "    np_list.append(number)\n",
    "#=>a 3 67 2 5\n",
    "#=>b 3 56 23 2\n",
    "#=>c 6 2 3 4\n",
    "\n",
    "print(np_list.reshape(3, 2))\n",
    "\n",
    "\n",
    "np_list = np.array(np_list)\n",
    "print(np_list.size)\n",
    "#=> 15"
   ]
  },
  {
   "cell_type": "code",
   "execution_count": null,
   "metadata": {},
   "outputs": [],
   "source": []
  }
 ],
 "metadata": {
  "kernelspec": {
   "display_name": "Python 3",
   "language": "python",
   "name": "python3"
  },
  "language_info": {
   "codemirror_mode": {
    "name": "ipython",
    "version": 3
   },
   "file_extension": ".py",
   "mimetype": "text/x-python",
   "name": "python",
   "nbconvert_exporter": "python",
   "pygments_lexer": "ipython3",
   "version": "3.7.6"
  }
 },
 "nbformat": 4,
 "nbformat_minor": 4
}
