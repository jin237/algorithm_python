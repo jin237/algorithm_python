{
 "cells": [
  {
   "cell_type": "code",
   "execution_count": 1,
   "metadata": {},
   "outputs": [],
   "source": [
    "import numpy as np"
   ]
  },
  {
   "cell_type": "code",
   "execution_count": 5,
   "metadata": {},
   "outputs": [
    {
     "name": "stdout",
     "output_type": "stream",
     "text": [
      "[0, 1, 2, 3]\n",
      "[0 1 2 3]\n"
     ]
    }
   ],
   "source": [
    "#basic array list\n",
    "ex_list = [0, 1, 2, 3]\n",
    "ex_list_np = np.array(ex_list)\n",
    "print(ex_list)\n",
    "#=>[0, 1, 2, 3]\n",
    "print(ex_list_np)\n",
    "#=>[0 1 2 3]"
   ]
  },
  {
   "cell_type": "code",
   "execution_count": 8,
   "metadata": {},
   "outputs": [
    {
     "name": "stdout",
     "output_type": "stream",
     "text": [
      "[10 20 30]\n"
     ]
    }
   ],
   "source": [
    "# basic array\n",
    "ex_array = np.array([1, 2, 3])\n",
    "# multiple by basic array\n",
    "multiple = 10 * ex_array\n",
    "print(multiple)\n",
    "#=>[10 20 30]"
   ]
  },
  {
   "cell_type": "code",
   "execution_count": 17,
   "metadata": {},
   "outputs": [
    {
     "name": "stdout",
     "output_type": "stream",
     "text": [
      "[0 1 2 3 4 5 6 7 8 9]\n",
      "[1 2 3 4 5 6 7 8 9]\n"
     ]
    }
   ],
   "source": [
    "# use range\n",
    "range_array = np.arange(10)\n",
    "print(range_array)\n",
    "#=>[0 1 2 3 4 5 6 7 8 9]\n",
    "range_designation_array = np.arange(1, 10)\n",
    "print(range_designation_array)"
   ]
  },
  {
   "cell_type": "code",
   "execution_count": 22,
   "metadata": {},
   "outputs": [
    {
     "name": "stdout",
     "output_type": "stream",
     "text": [
      "[[ 0  1  2  3]\n",
      " [ 4  5  6  7]\n",
      " [ 8  9 10 11]]\n",
      "[[ 1  2  3  4]\n",
      " [ 5  6  7  8]\n",
      " [ 9 10 11 12]]\n"
     ]
    }
   ],
   "source": [
    "# A two-dimensional array\n",
    "# use \".reshape\"\n",
    "reshape_list = np.arange(12).reshape(3, 4)\n",
    "print(reshape_list)\n",
    "reshape_designation_array = np.arange(1, 13).reshape(3, 4)\n",
    "print(reshape_designation_array)"
   ]
  },
  {
   "cell_type": "code",
   "execution_count": 28,
   "metadata": {},
   "outputs": [
    {
     "name": "stdout",
     "output_type": "stream",
     "text": [
      "[2 4 6 8]\n"
     ]
    }
   ],
   "source": [
    "# Arithmetic progression\n",
    "basic_array = np.arange(1, 10)\n",
    "# each 2 skip in range(1~10)\n",
    "aripro_array = basic_array[1 :10 :2]\n",
    "print(aripro_array)\n",
    "#=>[2 4 6 8]"
   ]
  },
  {
   "cell_type": "code",
   "execution_count": 36,
   "metadata": {},
   "outputs": [
    {
     "name": "stdout",
     "output_type": "stream",
     "text": [
      "[[0 1]\n",
      " [2 3]]\n",
      "[[0 1]\n",
      " [2 3]]\n",
      "[[1]\n",
      " [3]]\n"
     ]
    }
   ],
   "source": [
    "basic_array = np.arange(8).reshape(4, 2)\n",
    "# print(basic_array)\n",
    "#=>[[0 1]\n",
    "#=> [2 3]\n",
    "#=> [4 5]\n",
    "#=> [6 7]]\n",
    "print(basic_array[:2])\n",
    "#=>[[0 1]\n",
    "#=> [2 3]]\n",
    "print(basic_array[:2 :])\n",
    "#=>[[0 1]\n",
    "#=> [2 3]]\n",
    "print(basic_array[:2, 1:3])\n",
    "#=>[[1]\n",
    "#=> [3]]"
   ]
  },
  {
   "cell_type": "code",
   "execution_count": 46,
   "metadata": {},
   "outputs": [
    {
     "name": "stdout",
     "output_type": "stream",
     "text": [
      "(3, 2)\n"
     ]
    }
   ],
   "source": [
    "# 'shape' is result of the array\n",
    "print(basic_array[1:4].shape)\n",
    "#=>(3, 2)"
   ]
  },
  {
   "cell_type": "code",
   "execution_count": null,
   "metadata": {},
   "outputs": [],
   "source": []
  }
 ],
 "metadata": {
  "kernelspec": {
   "display_name": "Python 3",
   "language": "python",
   "name": "python3"
  },
  "language_info": {
   "codemirror_mode": {
    "name": "ipython",
    "version": 3
   },
   "file_extension": ".py",
   "mimetype": "text/x-python",
   "name": "python",
   "nbconvert_exporter": "python",
   "pygments_lexer": "ipython3",
   "version": "3.7.6"
  }
 },
 "nbformat": 4,
 "nbformat_minor": 4
}
