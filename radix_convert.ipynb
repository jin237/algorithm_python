{
 "cells": [
  {
   "cell_type": "code",
   "execution_count": 1,
   "metadata": {},
   "outputs": [],
   "source": [
    "# 10進数から2進数に変換を行うプログラムを作成しなさい。\n",
    "# ただし、整数でよい"
   ]
  },
  {
   "cell_type": "code",
   "execution_count": 63,
   "metadata": {},
   "outputs": [
    {
     "name": "stdout",
     "output_type": "stream",
     "text": [
      "Enter a number:18\n",
      "Radix number:10\n",
      "18\n"
     ]
    }
   ],
   "source": [
    "n = int(input('Enter a number:'))\n",
    "base = int(input('Radix number:'))\n",
    "\n",
    "def convert(n, base):\n",
    "    result = ''\n",
    "    \n",
    "    while n > 0:\n",
    "        result = str(n % base) + result\n",
    "        n //= base\n",
    "        \n",
    "    return result\n",
    "\n",
    "print(convert(n, base))"
   ]
  },
  {
   "cell_type": "markdown",
   "metadata": {},
   "source": [
    " "
   ]
  },
  {
   "cell_type": "code",
   "execution_count": null,
   "metadata": {},
   "outputs": [],
   "source": []
  },
  {
   "cell_type": "code",
   "execution_count": null,
   "metadata": {},
   "outputs": [],
   "source": []
  }
 ],
 "metadata": {
  "kernelspec": {
   "display_name": "Python 3",
   "language": "python",
   "name": "python3"
  },
  "language_info": {
   "codemirror_mode": {
    "name": "ipython",
    "version": 3
   },
   "file_extension": ".py",
   "mimetype": "text/x-python",
   "name": "python",
   "nbconvert_exporter": "python",
   "pygments_lexer": "ipython3",
   "version": "3.8.3"
  }
 },
 "nbformat": 4,
 "nbformat_minor": 4
}
