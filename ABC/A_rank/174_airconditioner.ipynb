{
 "cells": [
  {
   "cell_type": "markdown",
   "metadata": {},
   "source": [
    "https://atcoder.jp/contests/abc174/tasks/abc174_a\n",
    "\n",
    "問題文\n",
    "あなたは、室温が \n",
    "30\n",
    " 度以上のとき、またそのときに限り、冷房の電源を入れます。\n",
    "\n",
    "今の室温は \n",
    "X\n",
    " 度です。冷房の電源を入れますか？\n",
    "\n",
    "制約\n",
    "−\n",
    "40\n",
    "≤\n",
    "X\n",
    "≤\n",
    "40\n",
    "X\n",
    " は整数である。"
   ]
  },
  {
   "cell_type": "code",
   "execution_count": 1,
   "metadata": {},
   "outputs": [
    {
     "name": "stdout",
     "output_type": "stream",
     "text": [
      "35\n",
      "Yes\n"
     ]
    }
   ],
   "source": [
    "# code_1\n",
    "print('No' if int(input())<30 else 'Yes')"
   ]
  },
  {
   "cell_type": "code",
   "execution_count": 2,
   "metadata": {},
   "outputs": [
    {
     "name": "stdout",
     "output_type": "stream",
     "text": [
      "25\n",
      "No\n"
     ]
    }
   ],
   "source": [
    "# code_2\n",
    "print(\"YNeos\"[int(input())<30::2])"
   ]
  },
  {
   "cell_type": "code",
   "execution_count": 9,
   "metadata": {},
   "outputs": [
    {
     "name": "stdout",
     "output_type": "stream",
     "text": [
      "Yes\n",
      "No\n"
     ]
    }
   ],
   "source": [
    "# add about \"::\"\n",
    "# :: is trinming even or odd on array elements\n",
    "\n",
    "# case False \n",
    "print(\"YNeos\"[30<20::2]) \n",
    "# case True\n",
    "print(\"YNeos\"[30>20::2]) "
   ]
  },
  {
   "cell_type": "code",
   "execution_count": null,
   "metadata": {},
   "outputs": [],
   "source": []
  }
 ],
 "metadata": {
  "kernelspec": {
   "display_name": "Python 3",
   "language": "python",
   "name": "python3"
  },
  "language_info": {
   "codemirror_mode": {
    "name": "ipython",
    "version": 3
   },
   "file_extension": ".py",
   "mimetype": "text/x-python",
   "name": "python",
   "nbconvert_exporter": "python",
   "pygments_lexer": "ipython3",
   "version": "3.8.3"
  }
 },
 "nbformat": 4,
 "nbformat_minor": 4
}
