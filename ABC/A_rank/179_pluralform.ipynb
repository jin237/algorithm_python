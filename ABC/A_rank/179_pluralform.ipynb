{
 "cells": [
  {
   "cell_type": "markdown",
   "metadata": {},
   "source": [
    "https://atcoder.jp/contests/abc179/tasks/abc179_a\n",
    "\n",
    "問題文\n",
    "AtCoder 王国では、英小文字を用いる高橋語という言語が使われています。\n",
    "高橋語では、名詞の複数形は次のルールで綴られます。\n",
    "単数形の末尾が s 以外なら、単数形の末尾に s をつける\n",
    "単数形の末尾が s なら、単数形の末尾に es をつける\n",
    "高橋語の名詞の単数形 \n",
    "Sが与えられるので、複数形を出力してください。\n",
    "\n",
    "制約\n",
    "Sは長さ \n",
    "1以上 \n",
    "1000以下の文字列\n",
    "Sは英小文字のみを含む"
   ]
  },
  {
   "cell_type": "code",
   "execution_count": 9,
   "metadata": {},
   "outputs": [
    {
     "name": "stdout",
     "output_type": "stream",
     "text": [
      "box\n",
      "boxs\n"
     ]
    }
   ],
   "source": [
    "# code_1\n",
    "S = input()\n",
    "print(S+\"s\" if S[-1] != \"s\" else S+\"es\")"
   ]
  },
  {
   "cell_type": "code",
   "execution_count": null,
   "metadata": {},
   "outputs": [],
   "source": []
  }
 ],
 "metadata": {
  "kernelspec": {
   "display_name": "Python 3",
   "language": "python",
   "name": "python3"
  },
  "language_info": {
   "codemirror_mode": {
    "name": "ipython",
    "version": 3
   },
   "file_extension": ".py",
   "mimetype": "text/x-python",
   "name": "python",
   "nbconvert_exporter": "python",
   "pygments_lexer": "ipython3",
   "version": "3.8.3"
  }
 },
 "nbformat": 4,
 "nbformat_minor": 4
}
