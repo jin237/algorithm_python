{
 "cells": [
  {
   "cell_type": "markdown",
   "metadata": {},
   "source": [
    "https://atcoder.jp/contests/abc177/tasks/abc177_a\n",
    "\n",
    "問題文\n",
    "高橋君は青木君と待ち合わせをしています。\n",
    "\n",
    "待ち合わせ場所は高橋君の家からDメートル離れた地点であり、待ち合わせの時刻はT分後です。\n",
    "高橋君は今から家を出発し、分速Sメートルで待ち合わせ場所までまっすぐ移動します。\n",
    "待ち合わせに間に合うでしょうか？\n",
    "\n",
    "制約\n",
    "1≤D≤10000\n",
    "1≤T≤10000\n",
    "1≤S≤10000\n",
    "入力は全て整数\n"
   ]
  },
  {
   "cell_type": "code",
   "execution_count": 7,
   "metadata": {},
   "outputs": [
    {
     "name": "stdout",
     "output_type": "stream",
     "text": [
      "1000 80 15\n",
      "Yes\n"
     ]
    }
   ],
   "source": [
    "# code_1\n",
    "d, t, s = map(int,input().split())\n",
    "print('Yes' if d / s <= t else 'No')"
   ]
  },
  {
   "cell_type": "code",
   "execution_count": null,
   "metadata": {},
   "outputs": [],
   "source": [
    "# code_2\n",
    "d, t, s = map(int,input().split())\n",
    "print('Yes' if d <= s * t else 'No')"
   ]
  }
 ],
 "metadata": {
  "kernelspec": {
   "display_name": "Python 3",
   "language": "python",
   "name": "python3"
  },
  "language_info": {
   "codemirror_mode": {
    "name": "ipython",
    "version": 3
   },
   "file_extension": ".py",
   "mimetype": "text/x-python",
   "name": "python",
   "nbconvert_exporter": "python",
   "pygments_lexer": "ipython3",
   "version": "3.8.3"
  }
 },
 "nbformat": 4,
 "nbformat_minor": 4
}
