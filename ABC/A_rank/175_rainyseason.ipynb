{
 "cells": [
  {
   "cell_type": "markdown",
   "metadata": {},
   "source": [
    "https://atcoder.jp/contests/abc175/tasks/abc175_a\n",
    "\n",
    "問題文\n",
    "AtCoder町の、ある連続した3日間の天気の記録があります。天気の記録は長さ3の文字列 Sで表され、\n",
    "i(1≤i≤3)日目の天気は i文字目が S のとき晴れ、R のとき雨でした。\n",
    "天気が雨である日が連続していた最大の日数を求めてください。\n",
    "\n",
    "制約\n",
    "|S|=3\n",
    "Sの各文字は S または R である"
   ]
  },
  {
   "cell_type": "code",
   "execution_count": 6,
   "metadata": {},
   "outputs": [
    {
     "name": "stdout",
     "output_type": "stream",
     "text": [
      "RSR\n",
      "1\n"
     ]
    }
   ],
   "source": [
    "# code_1\n",
    "print(len(max(input().replace(\"S\", \" \").split(\" \"), key=len)))"
   ]
  },
  {
   "cell_type": "code",
   "execution_count": 7,
   "metadata": {},
   "outputs": [
    {
     "name": "stdout",
     "output_type": "stream",
     "text": [
      "RSR\n",
      "1\n"
     ]
    }
   ],
   "source": [
    "# code_2\n",
    "print(len(max(input().split('S'))))"
   ]
  },
  {
   "cell_type": "code",
   "execution_count": null,
   "metadata": {},
   "outputs": [],
   "source": []
  }
 ],
 "metadata": {
  "kernelspec": {
   "display_name": "Python 3",
   "language": "python",
   "name": "python3"
  },
  "language_info": {
   "codemirror_mode": {
    "name": "ipython",
    "version": 3
   },
   "file_extension": ".py",
   "mimetype": "text/x-python",
   "name": "python",
   "nbconvert_exporter": "python",
   "pygments_lexer": "ipython3",
   "version": "3.8.3"
  }
 },
 "nbformat": 4,
 "nbformat_minor": 4
}
