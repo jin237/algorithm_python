{
 "cells": [
  {
   "cell_type": "markdown",
   "metadata": {},
   "source": [
    "https://atcoder.jp/contests/abc180/tasks/abc180_a\n",
    "問題文\n",
    "N個のボールが入っていた箱から \n",
    "A個のボールを取り出し、新たに \n",
    "B個のボールを入れました。今、箱にはボールが何個入っていますか?\n",
    "\n",
    "制約\n",
    "入力はすべて整数\n",
    "100≤N≤200\n",
    "1≤A,B≤100\n"
   ]
  },
  {
   "cell_type": "code",
   "execution_count": 5,
   "metadata": {},
   "outputs": [
    {
     "name": "stdout",
     "output_type": "stream",
     "text": [
      "100 1 2\n",
      "101\n"
     ]
    }
   ],
   "source": [
    "# code_1\n",
    "n, a, b = map(int,input().split())\n",
    "print(n-a+b)"
   ]
  },
  {
   "cell_type": "code",
   "execution_count": null,
   "metadata": {},
   "outputs": [],
   "source": []
  }
 ],
 "metadata": {
  "kernelspec": {
   "display_name": "Python 3",
   "language": "python",
   "name": "python3"
  },
  "language_info": {
   "codemirror_mode": {
    "name": "ipython",
    "version": 3
   },
   "file_extension": ".py",
   "mimetype": "text/x-python",
   "name": "python",
   "nbconvert_exporter": "python",
   "pygments_lexer": "ipython3",
   "version": "3.8.3"
  }
 },
 "nbformat": 4,
 "nbformat_minor": 4
}
