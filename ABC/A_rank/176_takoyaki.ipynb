{
 "cells": [
  {
   "cell_type": "markdown",
   "metadata": {},
   "source": [
    "https://atcoder.jp/contests/abc176/tasks/abc176_a\n",
    "\n",
    "問題文\n",
    "高橋君はたこ焼きが好きです。\n",
    "\n",
    "たこ焼き器を使うと、1度に最大でX個のたこ焼きを作ることができます。これにかかる時間は作る個数によらずT分です。\n",
    "N個のたこ焼きを作るためには何分必要ですか？\n",
    "\n",
    "制約\n",
    "1≤N,X,T≤1000\n",
    "入力は全て整数"
   ]
  },
  {
   "cell_type": "code",
   "execution_count": 18,
   "metadata": {},
   "outputs": [
    {
     "name": "stdout",
     "output_type": "stream",
     "text": [
      "20 12 6\n",
      "12\n"
     ]
    }
   ],
   "source": [
    "# code_1\n",
    "n, x, t = map(int, input().split());print(((n//x)+1) * t if n%x else ((n//x)*t))"
   ]
  },
  {
   "cell_type": "code",
   "execution_count": 19,
   "metadata": {},
   "outputs": [
    {
     "name": "stdout",
     "output_type": "stream",
     "text": [
      "20 12 6\n",
      "12\n"
     ]
    }
   ],
   "source": [
    "# code_2\n",
    "n,x,t=map(int,input().split());print(-n//x*-t)"
   ]
  },
  {
   "cell_type": "code",
   "execution_count": null,
   "metadata": {},
   "outputs": [],
   "source": []
  }
 ],
 "metadata": {
  "kernelspec": {
   "display_name": "Python 3",
   "language": "python",
   "name": "python3"
  },
  "language_info": {
   "codemirror_mode": {
    "name": "ipython",
    "version": 3
   },
   "file_extension": ".py",
   "mimetype": "text/x-python",
   "name": "python",
   "nbconvert_exporter": "python",
   "pygments_lexer": "ipython3",
   "version": "3.8.3"
  }
 },
 "nbformat": 4,
 "nbformat_minor": 4
}
