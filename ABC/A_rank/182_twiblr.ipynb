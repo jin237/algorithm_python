{
 "cells": [
  {
   "cell_type": "markdown",
   "metadata": {},
   "source": [
    "https://atcoder.jp/contests/abc182/tasks/abc182_a\n",
    "問題文\n",
    "あなたは twiblr という SNS をしています。\n",
    "twiblr では、フォロー数が \n",
    "2\n",
    "×\n",
    "(\n",
    " フォロワー数 \n",
    ")\n",
    "+\n",
    "100\n",
    " を超えない範囲でフォロー数を増やすことができます。\n",
    "あなたの現在のフォロワー数は \n",
    "A\n",
    " で、フォロー数は \n",
    "B\n",
    " です。\n",
    "フォロー数はあといくつ増やせますか?\n",
    "\n",
    "制約\n",
    "0\n",
    "≤\n",
    "A\n",
    ",\n",
    "B\n",
    "≤\n",
    "10000\n",
    "B\n",
    "≤\n",
    "2\n",
    "×\n",
    "A\n",
    "+\n",
    "100\n",
    "入力は全て整数"
   ]
  },
  {
   "cell_type": "code",
   "execution_count": 3,
   "metadata": {},
   "outputs": [
    {
     "name": "stdout",
     "output_type": "stream",
     "text": [
      "10000 0\n"
     ]
    }
   ],
   "source": [
    "a,b=map(int,input().split())\n",
    "print(2*a+100-b)"
   ]
  },
  {
   "cell_type": "code",
   "execution_count": 4,
   "metadata": {},
   "outputs": [
    {
     "name": "stdout",
     "output_type": "stream",
     "text": [
      "20100\n"
     ]
    }
   ],
   "source": []
  },
  {
   "cell_type": "code",
   "execution_count": null,
   "metadata": {},
   "outputs": [],
   "source": []
  }
 ],
 "metadata": {
  "kernelspec": {
   "display_name": "Python 3",
   "language": "python",
   "name": "python3"
  },
  "language_info": {
   "codemirror_mode": {
    "name": "ipython",
    "version": 3
   },
   "file_extension": ".py",
   "mimetype": "text/x-python",
   "name": "python",
   "nbconvert_exporter": "python",
   "pygments_lexer": "ipython3",
   "version": "3.8.3"
  }
 },
 "nbformat": 4,
 "nbformat_minor": 4
}
