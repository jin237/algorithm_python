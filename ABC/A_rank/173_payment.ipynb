{
 "cells": [
  {
   "cell_type": "markdown",
   "metadata": {},
   "source": [
    "https://atcoder.jp/contests/abc173/tasks/abc173_a\n",
    "\n",
    "問題文\n",
    "お店で \n",
    "N\n",
    " 円の商品を買います。\n",
    "\n",
    "1000\n",
    " 円札のみを使って支払いを行う時、お釣りはいくらになりますか？\n",
    "\n",
    "ただし、必要最小限の枚数の \n",
    "1000\n",
    " 円札で支払いを行うものとします。\n",
    "\n",
    "制約\n",
    "1\n",
    "≤\n",
    "N\n",
    "≤\n",
    "10000\n",
    "N\n",
    " は整数"
   ]
  },
  {
   "cell_type": "code",
   "execution_count": 30,
   "metadata": {},
   "outputs": [
    {
     "name": "stdout",
     "output_type": "stream",
     "text": [
      "3700\n",
      "300\n"
     ]
    }
   ],
   "source": [
    "# code_1\n",
    "n = int(input())\n",
    "print(((n//1000)+1)*1000-n if n>1000 else '0')"
   ]
  },
  {
   "cell_type": "code",
   "execution_count": 35,
   "metadata": {},
   "outputs": [
    {
     "name": "stdout",
     "output_type": "stream",
     "text": [
      "1000\n",
      "0\n"
     ]
    }
   ],
   "source": [
    "# code_2\n",
    "print(-int(input())%1000)"
   ]
  },
  {
   "cell_type": "code",
   "execution_count": null,
   "metadata": {},
   "outputs": [],
   "source": []
  },
  {
   "cell_type": "code",
   "execution_count": null,
   "metadata": {},
   "outputs": [],
   "source": []
  }
 ],
 "metadata": {
  "kernelspec": {
   "display_name": "Python 3",
   "language": "python",
   "name": "python3"
  },
  "language_info": {
   "codemirror_mode": {
    "name": "ipython",
    "version": 3
   },
   "file_extension": ".py",
   "mimetype": "text/x-python",
   "name": "python",
   "nbconvert_exporter": "python",
   "pygments_lexer": "ipython3",
   "version": "3.8.3"
  }
 },
 "nbformat": 4,
 "nbformat_minor": 4
}
