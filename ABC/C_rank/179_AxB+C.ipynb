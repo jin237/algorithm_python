{
 "cells": [
  {
   "cell_type": "markdown",
   "metadata": {},
   "source": [
    "https://atcoder.jp/contests/abc179/tasks/abc179_c\n",
    "\n",
    "問題文\n",
    "正整数 \n",
    "N\n",
    " が与えられます。\n",
    "A\n",
    "×\n",
    "B\n",
    "+\n",
    "C\n",
    "=\n",
    "N\n",
    " を満たす正整数の組 \n",
    "(\n",
    "A\n",
    ",\n",
    "B\n",
    ",\n",
    "C\n",
    ")\n",
    " はいくつありますか？\n",
    "\n",
    "制約\n",
    "2\n",
    "≤\n",
    "N\n",
    "≤\n",
    "10\n",
    "6\n",
    "入力はすべて整数"
   ]
  },
  {
   "cell_type": "code",
   "execution_count": 35,
   "metadata": {},
   "outputs": [
    {
     "name": "stdout",
     "output_type": "stream",
     "text": [
      "1000000\n",
      "13969985\n"
     ]
    }
   ],
   "source": [
    "# code_1\n",
    "n=int(input())\n",
    "ans=0\n",
    "i=1\n",
    "while i<n:\n",
    "    ans=ans+(n-1)//i\n",
    "    i+=1\n",
    "print(ans)"
   ]
  },
  {
   "cell_type": "code",
   "execution_count": null,
   "metadata": {},
   "outputs": [],
   "source": []
  },
  {
   "cell_type": "code",
   "execution_count": null,
   "metadata": {},
   "outputs": [],
   "source": []
  },
  {
   "cell_type": "code",
   "execution_count": null,
   "metadata": {},
   "outputs": [],
   "source": []
  }
 ],
 "metadata": {
  "kernelspec": {
   "display_name": "Python 3",
   "language": "python",
   "name": "python3"
  },
  "language_info": {
   "codemirror_mode": {
    "name": "ipython",
    "version": 3
   },
   "file_extension": ".py",
   "mimetype": "text/x-python",
   "name": "python",
   "nbconvert_exporter": "python",
   "pygments_lexer": "ipython3",
   "version": "3.8.3"
  }
 },
 "nbformat": 4,
 "nbformat_minor": 4
}
