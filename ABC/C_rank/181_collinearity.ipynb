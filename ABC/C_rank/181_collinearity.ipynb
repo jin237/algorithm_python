{
 "cells": [
  {
   "cell_type": "markdown",
   "metadata": {},
   "source": [
    "https://atcoder.jp/contests/abc181/tasks/abc181_c\n",
    "\n",
    "問題文\n",
    "無限に広い \n",
    "2\n",
    " 次元平面の上に \n",
    "N\n",
    " 個の点があります。\n",
    "\n",
    "i\n",
    " 番目の点は \n",
    "(\n",
    "x\n",
    "i\n",
    ",\n",
    "y\n",
    "i\n",
    ")\n",
    " にあります。\n",
    "\n",
    "N\n",
    " 個の点の中の相異なる \n",
    "3\n",
    " 点であって、同一直線上にあるものは存在するでしょうか？\n",
    "\n",
    "制約\n",
    "入力はすべて整数\n",
    "3\n",
    "≤\n",
    "N\n",
    "≤\n",
    "10\n",
    "2\n",
    "|\n",
    "x\n",
    "i\n",
    "|\n",
    ",\n",
    "|\n",
    "y\n",
    "i\n",
    "|\n",
    "≤\n",
    "10\n",
    "3\n",
    "i\n",
    "≠\n",
    "j\n",
    " ならば \n",
    "(\n",
    "x\n",
    "i\n",
    ",\n",
    "y\n",
    "i\n",
    ")\n",
    "≠\n",
    "(\n",
    "x\n",
    "j\n",
    ",\n",
    "y\n",
    "j\n",
    ")"
   ]
  },
  {
   "cell_type": "code",
   "execution_count": 48,
   "metadata": {},
   "outputs": [
    {
     "name": "stdout",
     "output_type": "stream",
     "text": [
      "5\n",
      "0 1\n",
      "0 4\n",
      "0 7\n",
      "28732 329\n",
      "49842 293\n",
      "Yes\n",
      "No\n"
     ]
    }
   ],
   "source": [
    "# code_1\n",
    "import numpy as np\n",
    "import itertools \n",
    "arr = []\n",
    " \n",
    "n = int(input())\n",
    "for i in range(n):\n",
    "  arr.append(np.array(list(map(int,input().split()))))\n",
    " \n",
    "for a,b,c in itertools.combinations(arr,3):\n",
    "  d = a-b\n",
    "  e = a-c\n",
    "  if d[0]*e[1]-d[1]*e[0] == 0.0:\n",
    "    print(\"Yes\")\n",
    "    exit()\n",
    "print(\"No\")"
   ]
  },
  {
   "cell_type": "code",
   "execution_count": 1,
   "metadata": {},
   "outputs": [
    {
     "name": "stdout",
     "output_type": "stream",
     "text": [
      "3\n",
      "0 1\n",
      "0 2\n",
      "0 3\n",
      "Yes\n"
     ]
    },
    {
     "ename": "SystemExit",
     "evalue": "",
     "output_type": "error",
     "traceback": [
      "An exception has occurred, use %tb to see the full traceback.\n",
      "\u001b[0;31mSystemExit\u001b[0m\n"
     ]
    },
    {
     "name": "stderr",
     "output_type": "stream",
     "text": [
      "/opt/anaconda3/lib/python3.8/site-packages/IPython/core/interactiveshell.py:3351: UserWarning: To exit: use 'exit', 'quit', or Ctrl-D.\n",
      "  warn(\"To exit: use 'exit', 'quit', or Ctrl-D.\", stacklevel=1)\n"
     ]
    }
   ],
   "source": [
    "# code_2\n",
    "from sys import exit\n",
    "n = int(input())\n",
    "nodes = [tuple(map(int, input().split())) for _ in range(n)]\n",
    "done = set()\n",
    " \n",
    " \n",
    "def solve(node1, node2):\n",
    "    a = (node1[1] - node2[1]) / (node1[0] - node2[0]) if node1[0] - node2[0] != 0 else \"inf\"\n",
    "    b = -a * node1[0] + node1[1] if node1[0] - node2[0] != 0 else node1[0]\n",
    "    return (a, b)\n",
    " \n",
    "for i in range(n):\n",
    "    for j in range(i+1, n):\n",
    "        x = solve(nodes[i], nodes[j])\n",
    "        if x in done:\n",
    "            print(\"Yes\")\n",
    "            exit()\n",
    "        else:\n",
    "            done.add(x)\n",
    "print(\"No\")"
   ]
  },
  {
   "cell_type": "code",
   "execution_count": null,
   "metadata": {},
   "outputs": [],
   "source": []
  },
  {
   "cell_type": "code",
   "execution_count": null,
   "metadata": {},
   "outputs": [],
   "source": []
  }
 ],
 "metadata": {
  "kernelspec": {
   "display_name": "Python 3",
   "language": "python",
   "name": "python3"
  },
  "language_info": {
   "codemirror_mode": {
    "name": "ipython",
    "version": 3
   },
   "file_extension": ".py",
   "mimetype": "text/x-python",
   "name": "python",
   "nbconvert_exporter": "python",
   "pygments_lexer": "ipython3",
   "version": "3.8.3"
  }
 },
 "nbformat": 4,
 "nbformat_minor": 4
}
