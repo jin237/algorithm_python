{
 "cells": [
  {
   "cell_type": "markdown",
   "metadata": {},
   "source": [
    "https://atcoder.jp/contests/abc178/tasks/abc178_c\n",
    "\n",
    "問題文\n",
    "長さ \n",
    "N\n",
    " の整数の列 \n",
    "A\n",
    "1\n",
    ",\n",
    "A\n",
    "2\n",
    ",\n",
    "…\n",
    ",\n",
    "A\n",
    "N\n",
    " であって以下の条件をすべて満たすものはいくつありますか。\n",
    "\n",
    "0\n",
    "≤\n",
    "A\n",
    "i\n",
    "≤\n",
    "9\n",
    "A\n",
    "i\n",
    "=\n",
    "0\n",
    " なる \n",
    "i\n",
    " が存在する。\n",
    "A\n",
    "i\n",
    "=\n",
    "9\n",
    " なる \n",
    "i\n",
    " が存在する。\n",
    "ただし、答えはとても大きくなる可能性があるので、\n",
    "10\n",
    "9\n",
    "+\n",
    "7\n",
    " で割った余りを出力してください。\n",
    "\n",
    "制約\n",
    "1\n",
    "≤\n",
    "N\n",
    "≤\n",
    "10\n",
    "6\n",
    "N\n",
    " は整数\n"
   ]
  },
  {
   "cell_type": "code",
   "execution_count": 30,
   "metadata": {},
   "outputs": [
    {
     "name": "stdout",
     "output_type": "stream",
     "text": [
      "869121\n",
      "2511445\n"
     ]
    }
   ],
   "source": [
    "n=int(input())\n",
    "print((10**n-(2*9**n-8**n))%(10**9+7))"
   ]
  },
  {
   "cell_type": "code",
   "execution_count": null,
   "metadata": {},
   "outputs": [],
   "source": []
  },
  {
   "cell_type": "code",
   "execution_count": null,
   "metadata": {},
   "outputs": [],
   "source": []
  },
  {
   "cell_type": "code",
   "execution_count": null,
   "metadata": {},
   "outputs": [],
   "source": []
  },
  {
   "cell_type": "code",
   "execution_count": null,
   "metadata": {},
   "outputs": [],
   "source": []
  }
 ],
 "metadata": {
  "kernelspec": {
   "display_name": "Python 3",
   "language": "python",
   "name": "python3"
  },
  "language_info": {
   "codemirror_mode": {
    "name": "ipython",
    "version": 3
   },
   "file_extension": ".py",
   "mimetype": "text/x-python",
   "name": "python",
   "nbconvert_exporter": "python",
   "pygments_lexer": "ipython3",
   "version": "3.8.3"
  }
 },
 "nbformat": 4,
 "nbformat_minor": 4
}
