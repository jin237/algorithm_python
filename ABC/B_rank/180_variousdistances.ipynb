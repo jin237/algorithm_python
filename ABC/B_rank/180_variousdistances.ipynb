{
 "cells": [
  {
   "cell_type": "markdown",
   "metadata": {},
   "source": [
    "https://atcoder.jp/contests/abc180/tasks/abc180_b\n",
    "\n",
    "問題文\n",
    "N次元空間内の点 (x1,…,xN)が与えられます。\n",
    "原点からこの点までの、マンハッタン距離、ユークリッド距離、チェビシェフ距離をそれぞれ求めてください。 ただし、それぞれの距離は次のように計算されます。\n",
    "\n",
    "マンハッタン距離： |x1|+…+|xN|\n",
    "ユークリッド距離： √(|x1|^2+…+|xN|^2)\n",
    "チェビシェフ距離： max(|x1|,…,|xN|)\n",
    "制約\n",
    "1≤N≤10^5\n",
    "−10^5≤xi≤10^5\n",
    "入力は全て整数"
   ]
  },
  {
   "cell_type": "code",
   "execution_count": 18,
   "metadata": {},
   "outputs": [
    {
     "name": "stdout",
     "output_type": "stream",
     "text": [
      "10\n",
      "3 -1 -4 1 -5 9 2 -6 5 -3\n",
      "38\n",
      "15.0996688705415\n",
      "9\n"
     ]
    }
   ],
   "source": [
    "# code_1\n",
    "n=int(input())\n",
    "val=list(map(int, input().split()))\n",
    "m=0\n",
    "u=0\n",
    "for i in range(n):\n",
    "    if val[i]<0:\n",
    "        val[i] = -1*val[i] \n",
    "        m+=val[i]\n",
    "    else:\n",
    "        m+=val[i]\n",
    "    u+=val[i]*val[i]\n",
    "print(m,u**(1/2),max(val),sep=\"\\n\")"
   ]
  },
  {
   "cell_type": "code",
   "execution_count": null,
   "metadata": {},
   "outputs": [],
   "source": []
  },
  {
   "cell_type": "code",
   "execution_count": 16,
   "metadata": {},
   "outputs": [
    {
     "name": "stdout",
     "output_type": "stream",
     "text": [
      "10\n",
      "3 -1 -4 1 -5 9 2 -6 5 -3\n",
      "39\n",
      "14.38749456993816\n",
      "9\n"
     ]
    }
   ],
   "source": [
    "# code_2\n",
    "n=input()\n",
    "a=list(map(abs,map(int,input().split())))\n",
    "print(sum(a),sum([i**2 for i in a])**0.5,max(a),sep=\"\\n\")"
   ]
  },
  {
   "cell_type": "code",
   "execution_count": null,
   "metadata": {},
   "outputs": [],
   "source": []
  }
 ],
 "metadata": {
  "kernelspec": {
   "display_name": "Python 3",
   "language": "python",
   "name": "python3"
  },
  "language_info": {
   "codemirror_mode": {
    "name": "ipython",
    "version": 3
   },
   "file_extension": ".py",
   "mimetype": "text/x-python",
   "name": "python",
   "nbconvert_exporter": "python",
   "pygments_lexer": "ipython3",
   "version": "3.8.3"
  }
 },
 "nbformat": 4,
 "nbformat_minor": 4
}
