{
 "cells": [
  {
   "cell_type": "markdown",
   "metadata": {},
   "source": [
    "https://atcoder.jp/contests/abc176/tasks/abc176_b\n",
    "    \n",
    "問題文\n",
    "整数 \n",
    "N\n",
    " が \n",
    "9\n",
    " の倍数であることと、\n",
    "N\n",
    " を十進法で表したときの各桁の数の和が \n",
    "9\n",
    " の倍数であることは同値です。\n",
    "\n",
    "N\n",
    " が \n",
    "9\n",
    " の倍数であるか判定してください。\n",
    "\n",
    "制約\n",
    "0\n",
    "≤\n",
    "N\n",
    "<\n",
    "10\n",
    "200000\n",
    "N\n",
    " は整数"
   ]
  },
  {
   "cell_type": "code",
   "execution_count": 17,
   "metadata": {},
   "outputs": [
    {
     "name": "stdout",
     "output_type": "stream",
     "text": [
      "45454545445455\n",
      "Yes\n"
     ]
    }
   ],
   "source": [
    "# code_1\n",
    "n=str(input())\n",
    "val = sum(list(map(int, n)))\n",
    "print('No' if val%9 else 'Yes')"
   ]
  },
  {
   "cell_type": "code",
   "execution_count": 18,
   "metadata": {},
   "outputs": [],
   "source": [
    "#code_2\n",
    "print(\"YNeos\"[sum(map(int,input()))%9>0::2])"
   ]
  },
  {
   "cell_type": "code",
   "execution_count": 23,
   "metadata": {},
   "outputs": [
    {
     "name": "stdout",
     "output_type": "stream",
     "text": [
      "32948162984372941824\n",
      "No\n"
     ]
    }
   ],
   "source": [
    "#code_3\n",
    "print('No' if int(input())%9 else 'Yes')"
   ]
  },
  {
   "cell_type": "code",
   "execution_count": null,
   "metadata": {},
   "outputs": [],
   "source": []
  }
 ],
 "metadata": {
  "kernelspec": {
   "display_name": "Python 3",
   "language": "python",
   "name": "python3"
  },
  "language_info": {
   "codemirror_mode": {
    "name": "ipython",
    "version": 3
   },
   "file_extension": ".py",
   "mimetype": "text/x-python",
   "name": "python",
   "nbconvert_exporter": "python",
   "pygments_lexer": "ipython3",
   "version": "3.8.3"
  }
 },
 "nbformat": 4,
 "nbformat_minor": 4
}
