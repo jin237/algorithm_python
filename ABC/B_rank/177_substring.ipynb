{
 "cells": [
  {
   "cell_type": "markdown",
   "metadata": {},
   "source": [
    "https://atcoder.jp/contests/abc177/tasks/abc177_b\n",
    "\n",
    "問題文\n",
    "2\n",
    " つの文字列 \n",
    "S\n",
    ", \n",
    "T\n",
    " が与えられます。\n",
    "\n",
    "T\n",
    " が \n",
    "S\n",
    " の部分文字列となるように、\n",
    "S\n",
    " のいくつかの文字を書き換えます。\n",
    "\n",
    "少なくとも何文字書き換える必要がありますか？\n",
    "\n",
    "ただし、部分文字列とは連続する部分列のことを指します。例えば、xxx は yxxxy の部分文字列ですが、xxyxx の部分文字列ではありません。\n",
    "\n",
    "制約\n",
    "S\n",
    ",\n",
    "T\n",
    " は \n",
    "1\n",
    " 文字以上 \n",
    "1000\n",
    " 文字以下\n",
    "T\n",
    " の長さは \n",
    "S\n",
    " の長さ以下\n",
    "S\n",
    ",\n",
    "T\n",
    " は 英小文字のみを含む\n"
   ]
  },
  {
   "cell_type": "code",
   "execution_count": null,
   "metadata": {},
   "outputs": [],
   "source": [
    "# code_1\n",
    "s = input()\n",
    "t = input()\n",
    "n = len(s) - len(t) + 1\n",
    "print(min(sum(x != y for x, y in zip(s[i:], t)) for i in range(n)))"
   ]
  },
  {
   "cell_type": "code",
   "execution_count": 28,
   "metadata": {},
   "outputs": [
    {
     "name": "stdout",
     "output_type": "stream",
     "text": [
      "codeforces\n",
      "atcoder\n",
      "15\n"
     ]
    }
   ],
   "source": [
    "# code_2\n",
    "s=input()\n",
    "t=input()\n",
    "A=[]\n",
    " \n",
    "for i in range(len(s)-len(t)+1):\n",
    "  count=0\n",
    "  for j in range(len(t)):\n",
    "    if s[i+j]!=t[j]:\n",
    "      count+=1\n",
    "  A.append(count)\n",
    "  \n",
    "print(min(A))"
   ]
  },
  {
   "cell_type": "code",
   "execution_count": null,
   "metadata": {},
   "outputs": [],
   "source": []
  },
  {
   "cell_type": "code",
   "execution_count": null,
   "metadata": {},
   "outputs": [],
   "source": []
  },
  {
   "cell_type": "code",
   "execution_count": null,
   "metadata": {},
   "outputs": [],
   "source": []
  }
 ],
 "metadata": {
  "kernelspec": {
   "display_name": "Python 3",
   "language": "python",
   "name": "python3"
  },
  "language_info": {
   "codemirror_mode": {
    "name": "ipython",
    "version": 3
   },
   "file_extension": ".py",
   "mimetype": "text/x-python",
   "name": "python",
   "nbconvert_exporter": "python",
   "pygments_lexer": "ipython3",
   "version": "3.8.3"
  }
 },
 "nbformat": 4,
 "nbformat_minor": 4
}
