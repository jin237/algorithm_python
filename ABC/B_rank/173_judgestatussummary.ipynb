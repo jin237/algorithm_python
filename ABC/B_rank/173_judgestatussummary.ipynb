{
 "cells": [
  {
   "cell_type": "markdown",
   "metadata": {},
   "source": [
    "https://atcoder.jp/contests/abc173/tasks/abc173_b\n",
    "\n",
    "問題文\n",
    "高橋君は、プログラミングコンテスト AXC002 に参加しており、問題 A にコードを提出しました。\n",
    "\n",
    "この問題には \n",
    "N\n",
    " 個のテストケースがあります。\n",
    "\n",
    "各テストケース \n",
    "i\n",
    " (\n",
    "1\n",
    "≤\n",
    "i\n",
    "≤\n",
    "N\n",
    ") について、ジャッジ結果を表す文字列 \n",
    "S\n",
    "i\n",
    " が与えられるので、ジャッジ結果が AC, WA, TLE, RE であったものの個数をそれぞれ求めてください。\n",
    "\n",
    "出力形式は、出力欄を参照してください。\n",
    "\n",
    "制約\n",
    "1\n",
    "≤\n",
    "N\n",
    "≤\n",
    "10\n",
    "5\n",
    "S\n",
    "i\n",
    " は AC, WA, TLE, RE のいずれか\n"
   ]
  },
  {
   "cell_type": "code",
   "execution_count": 24,
   "metadata": {},
   "outputs": [
    {
     "name": "stdout",
     "output_type": "stream",
     "text": [
      "6\n",
      "AC\n",
      "TLE\n",
      "AC\n",
      "AC\n",
      "WA\n",
      "RE\n"
     ]
    }
   ],
   "source": [
    "n=int(input())\n",
    "a=[]\n",
    "for i in range(n):\n",
    "    s=input()\n",
    "    a.append(s)"
   ]
  },
  {
   "cell_type": "code",
   "execution_count": 29,
   "metadata": {},
   "outputs": [
    {
     "name": "stdout",
     "output_type": "stream",
     "text": [
      "AC x 3\n",
      "TLE x 1\n",
      "WA 1\n",
      "RE 1\n"
     ]
    }
   ],
   "source": [
    "print('AC x',a.count('AC'))\n",
    "print('TLE x',a.count('TLE'))\n",
    "print('WA x',a.count('WA'))\n",
    "print('RE x',a.count('RE'))\n"
   ]
  },
  {
   "cell_type": "code",
   "execution_count": null,
   "metadata": {},
   "outputs": [],
   "source": []
  }
 ],
 "metadata": {
  "kernelspec": {
   "display_name": "Python 3",
   "language": "python",
   "name": "python3"
  },
  "language_info": {
   "codemirror_mode": {
    "name": "ipython",
    "version": 3
   },
   "file_extension": ".py",
   "mimetype": "text/x-python",
   "name": "python",
   "nbconvert_exporter": "python",
   "pygments_lexer": "ipython3",
   "version": "3.8.3"
  }
 },
 "nbformat": 4,
 "nbformat_minor": 4
}
