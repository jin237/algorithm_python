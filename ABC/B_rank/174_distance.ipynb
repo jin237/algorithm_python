{
 "cells": [
  {
   "cell_type": "markdown",
   "metadata": {},
   "source": [
    "https://atcoder.jp/contests/abc174/tasks/abc174_b\n",
    "\n",
    "問題文\n",
    "2\n",
    " 次元平面上に \n",
    "N\n",
    " 個の点があります。 \n",
    "i\n",
    " 個目の点の座標は \n",
    "(\n",
    "X\n",
    "i\n",
    ",\n",
    "Y\n",
    "i\n",
    ")\n",
    " です。\n",
    "\n",
    "これらのうち、原点からの距離が \n",
    "D\n",
    " 以下であるような点は何個ありますか？\n",
    "\n",
    "なお、座標 \n",
    "(\n",
    "p\n",
    ",\n",
    "q\n",
    ")\n",
    " にある点と原点の距離は \n",
    "√\n",
    "p\n",
    "2\n",
    "+\n",
    "q\n",
    "2\n",
    " で表されます。\n",
    "\n",
    "制約\n",
    "1\n",
    "≤\n",
    "N\n",
    "≤\n",
    "2\n",
    "×\n",
    "10\n",
    "5\n",
    "0\n",
    "≤\n",
    "D\n",
    "≤\n",
    "2\n",
    "×\n",
    "10\n",
    "5\n",
    "|\n",
    "X\n",
    "i\n",
    "|\n",
    ",\n",
    "|\n",
    "Y\n",
    "i\n",
    "|\n",
    "≤\n",
    "2\n",
    "×\n",
    "10\n",
    "5\n",
    "入力は全て整数"
   ]
  },
  {
   "cell_type": "code",
   "execution_count": 6,
   "metadata": {},
   "outputs": [
    {
     "name": "stdout",
     "output_type": "stream",
     "text": [
      "12 3\n",
      "1 1\n",
      "1 1\n",
      "1 1\n",
      "1 1\n",
      "1 2\n",
      "1 3\n",
      "2 1\n",
      "2 2\n",
      "2 3\n",
      "3 1\n",
      "3 2\n",
      "3 3\n",
      "12\n"
     ]
    }
   ],
   "source": [
    "# code_1\n",
    "n,d=map(int,input().split())\n",
    "cnt=0\n",
    "for i in range(n):\n",
    "    x,y=map(int,input().split())\n",
    "    if (x*x+y*y)**(1/2)<=d:\n",
    "        cnt+=1\n",
    "print(cnt)"
   ]
  },
  {
   "cell_type": "code",
   "execution_count": null,
   "metadata": {},
   "outputs": [],
   "source": [
    "# code_2\n",
    "n,d=map(int,input().split())\n",
    "cnt=0\n",
    "for i in range(n):\n",
    "    x,y=map(int,input().split())\n",
    "    if (x*x+y*y)<=d*d:cnt+=1\n",
    "print(cnt)"
   ]
  }
 ],
 "metadata": {
  "kernelspec": {
   "display_name": "Python 3",
   "language": "python",
   "name": "python3"
  },
  "language_info": {
   "codemirror_mode": {
    "name": "ipython",
    "version": 3
   },
   "file_extension": ".py",
   "mimetype": "text/x-python",
   "name": "python",
   "nbconvert_exporter": "python",
   "pygments_lexer": "ipython3",
   "version": "3.8.3"
  }
 },
 "nbformat": 4,
 "nbformat_minor": 4
}
