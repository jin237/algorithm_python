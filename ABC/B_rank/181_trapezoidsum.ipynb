{
 "cells": [
  {
   "cell_type": "markdown",
   "metadata": {},
   "source": [
    "https://atcoder.jp/contests/abc181/tasks/abc181_b\n",
    "\n",
    "問題文\n",
    "何も書かれていない黒板があります。 高橋くんはN回の操作を行い、黒板に整数を書きます。\n",
    "i回目の操作では、 Ai以上 Bi以下の整数すべてを 1個ずつ、合計 \n",
    "Bi−Ai+1個の整数を書きます。\n",
    "N回の操作を終えたときの、黒板に書かれた整数の合計を求めてください。\n",
    "\n",
    "制約\n",
    "入力はすべて整数\n",
    "1≤N≤10^5\n",
    "1≤Ai≤Bi≤10^6\n",
    "\n",
    "\n",
    "入力例\n",
    "3\n",
    "11 13\n",
    "17 47\n",
    "359 44683\n",
    "998244353"
   ]
  },
  {
   "cell_type": "code",
   "execution_count": 5,
   "metadata": {},
   "outputs": [
    {
     "name": "stdout",
     "output_type": "stream",
     "text": [
      "3\n",
      "11 13\n",
      "17 47\n",
      "359 44683\n",
      "998244353\n"
     ]
    }
   ],
   "source": [
    "# code_1\n",
    "n=int(input())\n",
    "t=0\n",
    "for i in range(n):\n",
    "    a,b=map(int,input().split())\n",
    "    c=a+b\n",
    "    d=b-a+1\n",
    "    t+=c*(d//2)+(a+d//2) if d%2 else c*(d//2)\n",
    "print(t)"
   ]
  },
  {
   "cell_type": "code",
   "execution_count": 10,
   "metadata": {},
   "outputs": [
    {
     "name": "stdout",
     "output_type": "stream",
     "text": [
      "3\n",
      "11 13\n",
      "17 47\n",
      "359 44683\n",
      "998244353\n"
     ]
    }
   ],
   "source": [
    "# code_2\n",
    "r=0\n",
    "for i in range(int(input())):\n",
    "  a,b=map(int,input().split())\n",
    "  r+=((b-a+1)*(a+b))//2\n",
    "print(r)"
   ]
  },
  {
   "cell_type": "code",
   "execution_count": null,
   "metadata": {},
   "outputs": [],
   "source": []
  }
 ],
 "metadata": {
  "kernelspec": {
   "display_name": "Python 3",
   "language": "python",
   "name": "python3"
  },
  "language_info": {
   "codemirror_mode": {
    "name": "ipython",
    "version": 3
   },
   "file_extension": ".py",
   "mimetype": "text/x-python",
   "name": "python",
   "nbconvert_exporter": "python",
   "pygments_lexer": "ipython3",
   "version": "3.8.3"
  }
 },
 "nbformat": 4,
 "nbformat_minor": 4
}
