{
 "cells": [
  {
   "cell_type": "markdown",
   "metadata": {},
   "source": [
    "https://atcoder.jp/contests/abc178/tasks/abc178_b\n",
    "\n",
    "問題文\n",
    "整数 \n",
    "a\n",
    ",\n",
    "b\n",
    ",\n",
    "c\n",
    ",\n",
    "d\n",
    " が与えられます。 \n",
    "a\n",
    "≤\n",
    "x\n",
    "≤\n",
    "b\n",
    ",\n",
    "c\n",
    "≤\n",
    "y\n",
    "≤\n",
    "d\n",
    " を満たす整数 \n",
    "x\n",
    ",\n",
    "y\n",
    " について、\n",
    "x\n",
    "×\n",
    "y\n",
    " の最大値はいくつですか。\n",
    "\n",
    "制約\n",
    "−\n",
    "10\n",
    "9\n",
    "≤\n",
    "a\n",
    "≤\n",
    "b\n",
    "≤\n",
    "10\n",
    "9\n",
    "−\n",
    "10\n",
    "9\n",
    "≤\n",
    "c\n",
    "≤\n",
    "d\n",
    "≤\n",
    "10\n",
    "9\n",
    "入力はすべて整数"
   ]
  },
  {
   "cell_type": "code",
   "execution_count": 4,
   "metadata": {},
   "outputs": [
    {
     "name": "stdout",
     "output_type": "stream",
     "text": [
      "-1000000000 0 -1000000000 0\n",
      "1000000000000000000\n"
     ]
    }
   ],
   "source": [
    "# code_1\n",
    "a,b,c,d=map(int, input().split())\n",
    "val=[a*c, a*d,b*c,b*d]\n",
    "print(max(val))"
   ]
  },
  {
   "cell_type": "code",
   "execution_count": 5,
   "metadata": {},
   "outputs": [
    {
     "name": "stdout",
     "output_type": "stream",
     "text": [
      "1 2 1 1\n",
      "2\n"
     ]
    }
   ],
   "source": [
    "# code_2\n",
    "a, b, c, d = map(int, input().split())\n",
    "e = max(a*c,a*d,b*c,b*d)\n",
    "print(e)"
   ]
  },
  {
   "cell_type": "code",
   "execution_count": null,
   "metadata": {},
   "outputs": [],
   "source": []
  }
 ],
 "metadata": {
  "kernelspec": {
   "display_name": "Python 3",
   "language": "python",
   "name": "python3"
  },
  "language_info": {
   "codemirror_mode": {
    "name": "ipython",
    "version": 3
   },
   "file_extension": ".py",
   "mimetype": "text/x-python",
   "name": "python",
   "nbconvert_exporter": "python",
   "pygments_lexer": "ipython3",
   "version": "3.8.3"
  }
 },
 "nbformat": 4,
 "nbformat_minor": 4
}
