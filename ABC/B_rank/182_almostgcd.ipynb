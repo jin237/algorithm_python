{
 "cells": [
  {
   "cell_type": "markdown",
   "metadata": {},
   "source": [
    "https://atcoder.jp/contests/abc182/tasks/abc182_b\n",
    "\n",
    "問題文\n",
    "数列 \n",
    "A\n",
    " \n",
    "(\n",
    "A\n",
    "1\n",
    ",\n",
    "A\n",
    "2\n",
    ",\n",
    "A\n",
    "3\n",
    ",\n",
    "…\n",
    ",\n",
    "A\n",
    "N\n",
    ")\n",
    " が与えられます。\n",
    "正の整数 \n",
    "k\n",
    " の GCD 度を、\n",
    "A\n",
    "1\n",
    ",\n",
    "A\n",
    "2\n",
    ",\n",
    "A\n",
    "3\n",
    ",\n",
    "…\n",
    ",\n",
    "A\n",
    "N\n",
    " のうち \n",
    "k\n",
    " で割り切れるものの数と定義します。\n",
    "2\n",
    " 以上の整数のうち GCD 度が最大になるものを一つ求めてください。 GCD 度が最大のものが複数ある場合どれを出力しても構いません。\n",
    "\n",
    "制約\n",
    "1\n",
    "≤\n",
    "N\n",
    "≤\n",
    "100\n",
    "2\n",
    "≤\n",
    "A\n",
    "i\n",
    "≤\n",
    "1000\n",
    "入力は全て整数"
   ]
  },
  {
   "cell_type": "code",
   "execution_count": null,
   "metadata": {},
   "outputs": [],
   "source": [
    "n=int(input())\n",
    "a=list(map(int,input().split()))\n",
    "b=[]\n",
    "\n",
    "for l in range(n):\n",
    "    print(a[l])\n",
    "    i=1\n",
    "    while i*i <= a[l]:\n",
    "            if a[l]%i==0:\n",
    "                b.append(i)\n",
    "                if i!=a[l]//i:\n",
    "                    b.append(a[l]//i)\n",
    "            i+=1\n",
    "b.sort()\n",
    "import collections\n",
    "c = collections.Counter(b)\n",
    "print(c)"
   ]
  },
  {
   "cell_type": "code",
   "execution_count": null,
   "metadata": {},
   "outputs": [],
   "source": []
  },
  {
   "cell_type": "code",
   "execution_count": null,
   "metadata": {},
   "outputs": [],
   "source": []
  },
  {
   "cell_type": "code",
   "execution_count": null,
   "metadata": {},
   "outputs": [],
   "source": []
  }
 ],
 "metadata": {
  "kernelspec": {
   "display_name": "Python 3",
   "language": "python",
   "name": "python3"
  },
  "language_info": {
   "codemirror_mode": {
    "name": "ipython",
    "version": 3
   },
   "file_extension": ".py",
   "mimetype": "text/x-python",
   "name": "python",
   "nbconvert_exporter": "python",
   "pygments_lexer": "ipython3",
   "version": "3.8.3"
  }
 },
 "nbformat": 4,
 "nbformat_minor": 4
}
