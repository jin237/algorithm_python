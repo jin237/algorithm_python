{
 "cells": [
  {
   "cell_type": "markdown",
   "metadata": {},
   "source": [
    "https://atcoder.jp/contests/abc179/tasks/abc179_b\n",
    "\n",
    "問題文\n",
    "高橋君は、「サイコロを2個振る」という行動を N回行いました。 \n",
    "i回目の出目はDi,1,\n",
    "D\n",
    "i\n",
    ",\n",
    "2\n",
    " です。\n",
    "\n",
    "ゾロ目が \n",
    "3\n",
    " 回以上続けて出たことがあるかどうか判定してください。 より正確には、\n",
    "D\n",
    "i\n",
    ",\n",
    "1\n",
    "=\n",
    "D\n",
    "i\n",
    ",\n",
    "2\n",
    " かつ \n",
    "D\n",
    "i\n",
    "+\n",
    "1\n",
    ",\n",
    "1\n",
    "=\n",
    "D\n",
    "i\n",
    "+\n",
    "1\n",
    ",\n",
    "2\n",
    " かつ \n",
    "D\n",
    "i\n",
    "+\n",
    "2\n",
    ",\n",
    "1\n",
    "=\n",
    "D\n",
    "i\n",
    "+\n",
    "2\n",
    ",\n",
    "2\n",
    " を満たすような \n",
    "i\n",
    " が少なくとも一つ存在するかどうか判定してください。\n",
    "\n",
    "制約\n",
    "3\n",
    "≤\n",
    "N\n",
    "≤\n",
    "100\n",
    "1\n",
    "≤\n",
    "D\n",
    "i\n",
    ",\n",
    "j\n",
    "≤\n",
    "6\n",
    "入力は全て整数"
   ]
  },
  {
   "cell_type": "code",
   "execution_count": 12,
   "metadata": {},
   "outputs": [
    {
     "name": "stdout",
     "output_type": "stream",
     "text": [
      "10\n",
      "1 1\n",
      "2 2\n",
      "4 4\n",
      "Yes\n"
     ]
    }
   ],
   "source": [
    "n=int(input())\n",
    "count=0\n",
    "for i in range(n):\n",
    "    a,b=map(int,input().split())\n",
    "    if a==b:\n",
    "        count+=1\n",
    "        if count>2:\n",
    "            print(\"Yes\")\n",
    "            break\n",
    "    else:\n",
    "        count=0\n",
    "if count<3:\n",
    "    print(\"No\")\n"
   ]
  },
  {
   "cell_type": "code",
   "execution_count": null,
   "metadata": {},
   "outputs": [],
   "source": [
    "# code_2\n",
    "N=int(input())\n",
    "f=0\n",
    "for _ in range(N):\n",
    "  D=input().split()\n",
    "  if D[0] == D[1]: f+=1\n",
    "  else: f=0\n",
    "  if f == 3:\n",
    "    print('Yes')\n",
    "    exit()\n",
    "print('No')"
   ]
  },
  {
   "cell_type": "code",
   "execution_count": 13,
   "metadata": {},
   "outputs": [
    {
     "name": "stdout",
     "output_type": "stream",
     "text": [
      "5\n",
      "1 1\n",
      "2 2\n",
      "3 3\n",
      "4 4\n",
      "1 3\n",
      "Yes\n"
     ]
    }
   ],
   "source": [
    "# code_3\n",
    "a = [len(set(input().split())) == 1 for _ in range(int(input()))]\n",
    "print('NYoe s'[any(map(all, zip(a, a[1:], a[2:])))::2]) "
   ]
  },
  {
   "cell_type": "code",
   "execution_count": null,
   "metadata": {},
   "outputs": [],
   "source": []
  }
 ],
 "metadata": {
  "kernelspec": {
   "display_name": "Python 3",
   "language": "python",
   "name": "python3"
  },
  "language_info": {
   "codemirror_mode": {
    "name": "ipython",
    "version": 3
   },
   "file_extension": ".py",
   "mimetype": "text/x-python",
   "name": "python",
   "nbconvert_exporter": "python",
   "pygments_lexer": "ipython3",
   "version": "3.8.3"
  }
 },
 "nbformat": 4,
 "nbformat_minor": 4
}
