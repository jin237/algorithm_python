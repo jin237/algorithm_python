{
 "cells": [
  {
   "cell_type": "markdown",
   "metadata": {},
   "source": [
    "https://atcoder.jp/contests/abc175/tasks/abc175_b\n",
    "\n",
    "問題文\n",
    "1\n",
    ",\n",
    "⋯\n",
    ",\n",
    "N\n",
    " の番号がついた \n",
    "N\n",
    " 本の棒があります。棒 \n",
    "i\n",
    "(\n",
    "1\n",
    "≤\n",
    "i\n",
    "≤\n",
    "N\n",
    ")\n",
    " の長さは \n",
    "L\n",
    "i\n",
    " です。\n",
    "\n",
    "このうち、三角形を作ることのできるような長さの異なる \n",
    "3\n",
    " 本の棒を選ぶ方法は何通りあるでしょうか。\n",
    "\n",
    "つまり、\n",
    "3\n",
    " つの整数 \n",
    "1\n",
    "≤\n",
    "i\n",
    "<\n",
    "j\n",
    "<\n",
    "k\n",
    "≤\n",
    "N\n",
    " の組であって次の \n",
    "2\n",
    " つの条件の両方を満たすものの個数を求めてください。\n",
    "\n",
    "L\n",
    "i\n",
    ",\n",
    "L\n",
    "j\n",
    ",\n",
    "L\n",
    "k\n",
    " がすべて異なる\n",
    "3\n",
    " 辺の長さが \n",
    "L\n",
    "i\n",
    ",\n",
    "L\n",
    "j\n",
    ",\n",
    "L\n",
    "k\n",
    " であるような三角形が存在する\n",
    "制約\n",
    "1\n",
    "≤\n",
    "N\n",
    "≤\n",
    "100\n",
    "1\n",
    "≤\n",
    "L\n",
    "i\n",
    "≤\n",
    "10\n",
    "9\n",
    "入力は全て整数である\n"
   ]
  },
  {
   "cell_type": "code",
   "execution_count": null,
   "metadata": {},
   "outputs": [],
   "source": []
  },
  {
   "cell_type": "code",
   "execution_count": 170,
   "metadata": {},
   "outputs": [
    {
     "name": "stdout",
     "output_type": "stream",
     "text": [
      "6\n",
      "4 5 3 3 2 7\n",
      "8\n"
     ]
    }
   ],
   "source": [
    "# code_1\n",
    "import itertools as itls\n",
    "n=int(input())\n",
    "a=list(map(int,input().split()))\n",
    "b=list(itls.combinations(a,3))\n",
    "cnt=0\n",
    "for i in range(len(b)):\n",
    "    if ((b[i][0]+b[i][1]+b[i][2]-2*max(b[i]))<=0) or (b[i][0] == b[i][1]) or (b[i][1] == b[i][2]) or (b[i][0] == b[i][2]):\n",
    "        cnt+=1\n",
    "print(len(b)-cnt)"
   ]
  },
  {
   "cell_type": "code",
   "execution_count": 172,
   "metadata": {},
   "outputs": [
    {
     "name": "stdout",
     "output_type": "stream",
     "text": [
      "6\n",
      "4 5 3 3 7 2\n",
      "8\n"
     ]
    }
   ],
   "source": [
    "# code_2\n",
    "from itertools import combinations\n",
    "n=int(input())\n",
    "l=sorted(list(map(int, input().split())))\n",
    "ans=0\n",
    "for a,b,c in combinations(l, 3):\n",
    "    ans+=a<b<c<a+b\n",
    "print(ans)"
   ]
  },
  {
   "cell_type": "code",
   "execution_count": null,
   "metadata": {},
   "outputs": [],
   "source": []
  },
  {
   "cell_type": "code",
   "execution_count": null,
   "metadata": {},
   "outputs": [],
   "source": []
  },
  {
   "cell_type": "code",
   "execution_count": null,
   "metadata": {},
   "outputs": [],
   "source": []
  },
  {
   "cell_type": "code",
   "execution_count": null,
   "metadata": {},
   "outputs": [],
   "source": []
  }
 ],
 "metadata": {
  "kernelspec": {
   "display_name": "Python 3",
   "language": "python",
   "name": "python3"
  },
  "language_info": {
   "codemirror_mode": {
    "name": "ipython",
    "version": 3
   },
   "file_extension": ".py",
   "mimetype": "text/x-python",
   "name": "python",
   "nbconvert_exporter": "python",
   "pygments_lexer": "ipython3",
   "version": "3.8.3"
  }
 },
 "nbformat": 4,
 "nbformat_minor": 4
}
