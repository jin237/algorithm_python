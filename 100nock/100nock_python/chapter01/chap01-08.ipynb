{
 "cells": [
  {
   "cell_type": "code",
   "execution_count": 1,
   "metadata": {},
   "outputs": [],
   "source": [
    "#与えられた文字列の各文字を，以下の仕様で変換する関数cipherを実装せよ．\n",
    "\n",
    "#英小文字ならば(219 - 文字コード)の文字に置換\n",
    "#その他の文字はそのまま出力\n",
    "#この関数を用い，英語のメッセージを暗号化・復号化せよ．"
   ]
  },
  {
   "cell_type": "code",
   "execution_count": 2,
   "metadata": {},
   "outputs": [],
   "source": [
    "#exchange function 'cipher'\n",
    "def cipher(str):\n",
    "  rep = [chr(219 - ord(x)) if x.islower() else x for x in str]\n",
    "\n",
    "  return ''.join(rep)"
   ]
  },
  {
   "cell_type": "code",
   "execution_count": 4,
   "metadata": {},
   "outputs": [
    {
     "name": "stdout",
     "output_type": "stream",
     "text": [
      "I am Takehiro Iino\n",
      "暗号化: I zn Tzpvsril Irml\n",
      "復号化: I am Takehiro Iino\n"
     ]
    }
   ],
   "source": [
    "message = str(input())\n",
    "message = cipher(message)\n",
    "print('暗号化:', message)\n",
    "message = cipher(message)\n",
    "print('復号化:', message)"
   ]
  },
  {
   "cell_type": "code",
   "execution_count": null,
   "metadata": {},
   "outputs": [],
   "source": []
  }
 ],
 "metadata": {
  "kernelspec": {
   "display_name": "Python 3",
   "language": "python",
   "name": "python3"
  },
  "language_info": {
   "codemirror_mode": {
    "name": "ipython",
    "version": 3
   },
   "file_extension": ".py",
   "mimetype": "text/x-python",
   "name": "python",
   "nbconvert_exporter": "python",
   "pygments_lexer": "ipython3",
   "version": "3.8.3"
  }
 },
 "nbformat": 4,
 "nbformat_minor": 4
}
