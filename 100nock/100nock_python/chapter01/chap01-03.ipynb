{
 "cells": [
  {
   "cell_type": "code",
   "execution_count": 128,
   "metadata": {},
   "outputs": [],
   "source": [
    "#“Now I need a drink, alcoholic of course, after the heavy lectures involving quantum mechanics.”\n",
    "#という文を単語に分解し，各単語の（アルファベットの）文字数を先頭から出現順に並べたリストを作成せよ．"
   ]
  },
  {
   "cell_type": "code",
   "execution_count": 135,
   "metadata": {},
   "outputs": [],
   "source": [
    "word = (\"Now I need a drink, alcoholic of course, after the heavy lectures involving quantum mechanics.\")\n",
    "word = word.replace('.', '')\n",
    "word_list = word.split(',')\n",
    "\n",
    "word_list_split = list()\n",
    "for i in range(3):\n",
    "    word_split = word_list[i].split()\n",
    "    word_list_split.append(word_split)\n",
    "word_list = sum(word_list_split, [])"
   ]
  },
  {
   "cell_type": "code",
   "execution_count": 136,
   "metadata": {},
   "outputs": [
    {
     "name": "stdout",
     "output_type": "stream",
     "text": [
      "[[3, 'Now'], [1, 'I'], [4, 'need'], [1, 'a'], [5, 'drink'], [9, 'alcoholic'], [2, 'of'], [6, 'course'], [5, 'after'], [3, 'the'], [5, 'heavy'], [8, 'lectures'], [9, 'involving'], [7, 'quantum'], [9, 'mechanics']]\n"
     ]
    }
   ],
   "source": [
    "lavel_list = list()\n",
    "for i in range(len(word_list)):\n",
    "    tag_list = list()\n",
    "    count = len(word_list[i])\n",
    "    tag_list.append(count)\n",
    "    tag_list.append(word_list[i])\n",
    "    lavel_list.append(tag_list)\n",
    "print(lavel_list)"
   ]
  },
  {
   "cell_type": "code",
   "execution_count": 137,
   "metadata": {},
   "outputs": [
    {
     "name": "stdout",
     "output_type": "stream",
     "text": [
      "I a of Now the need after drink heavy course quantum lectures alcoholic involving mechanics\n"
     ]
    }
   ],
   "source": [
    "sort_list = sorted(lavel_list)\n",
    "for k in range(len(sort_list)):\n",
    "    del sort_list[k][0]\n",
    "print(*sum(sort_list, []))"
   ]
  },
  {
   "cell_type": "code",
   "execution_count": null,
   "metadata": {},
   "outputs": [],
   "source": []
  },
  {
   "cell_type": "code",
   "execution_count": null,
   "metadata": {},
   "outputs": [],
   "source": []
  }
 ],
 "metadata": {
  "kernelspec": {
   "display_name": "Python 3",
   "language": "python",
   "name": "python3"
  },
  "language_info": {
   "codemirror_mode": {
    "name": "ipython",
    "version": 3
   },
   "file_extension": ".py",
   "mimetype": "text/x-python",
   "name": "python",
   "nbconvert_exporter": "python",
   "pygments_lexer": "ipython3",
   "version": "3.8.3"
  }
 },
 "nbformat": 4,
 "nbformat_minor": 4
}
