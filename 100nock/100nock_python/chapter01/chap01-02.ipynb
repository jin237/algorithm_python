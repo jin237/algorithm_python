{
 "cells": [
  {
   "cell_type": "code",
   "execution_count": 1,
   "metadata": {},
   "outputs": [],
   "source": [
    "#「パトカー」＋「タクシー」の文字を先頭から交互に連結して文字列「パタトクカシーー」を得よ．"
   ]
  },
  {
   "cell_type": "code",
   "execution_count": 4,
   "metadata": {},
   "outputs": [
    {
     "name": "stdout",
     "output_type": "stream",
     "text": [
      "['パ', 'ト', 'カ', 'ー']\n",
      "['タ', 'ク', 'シ', 'ー']\n"
     ]
    }
   ],
   "source": [
    "word_1 = (\"パトカー\")\n",
    "word_2 = (\"タクシー\")\n",
    "word_1_list = list(word_1)\n",
    "word_2_list = list(word_2)\n",
    "print(word_1_list)\n",
    "print(word_2_list)"
   ]
  },
  {
   "cell_type": "code",
   "execution_count": 15,
   "metadata": {},
   "outputs": [
    {
     "name": "stdout",
     "output_type": "stream",
     "text": [
      "パ タ ト ク カ シ ー ー\n"
     ]
    }
   ],
   "source": [
    "connect_list=list()\n",
    "for i in range(4):\n",
    "    connect_list.append(word_1_list[i])\n",
    "    connect_list.append(word_2_list[i])\n",
    "print(*connect_list)"
   ]
  },
  {
   "cell_type": "code",
   "execution_count": null,
   "metadata": {},
   "outputs": [],
   "source": []
  }
 ],
 "metadata": {
  "kernelspec": {
   "display_name": "Python 3",
   "language": "python",
   "name": "python3"
  },
  "language_info": {
   "codemirror_mode": {
    "name": "ipython",
    "version": 3
   },
   "file_extension": ".py",
   "mimetype": "text/x-python",
   "name": "python",
   "nbconvert_exporter": "python",
   "pygments_lexer": "ipython3",
   "version": "3.8.3"
  }
 },
 "nbformat": 4,
 "nbformat_minor": 4
}
