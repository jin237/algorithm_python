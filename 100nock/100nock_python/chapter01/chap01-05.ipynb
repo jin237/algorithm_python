{
 "cells": [
  {
   "cell_type": "code",
   "execution_count": 1,
   "metadata": {},
   "outputs": [],
   "source": [
    "#与えられたシーケンス（文字列やリストなど）からn-gramを作る関数を作成せよ．\n",
    "#この関数を用い，”I am an NLPer”という文から単語bi-gram，文字bi-gramを得よ"
   ]
  },
  {
   "cell_type": "code",
   "execution_count": 18,
   "metadata": {},
   "outputs": [],
   "source": [
    "#split count n\n",
    "def n_gram(target, n):\n",
    "    n = int(input())\n",
    "    return [target[idx:idx + n] for idx in range(len(target) - n + 1)]"
   ]
  },
  {
   "cell_type": "code",
   "execution_count": 19,
   "metadata": {},
   "outputs": [
    {
     "name": "stdout",
     "output_type": "stream",
     "text": [
      "3\n",
      "['I a', ' am', 'am ', 'm a', ' an', 'an ', 'n N', ' NL', 'NLP', 'LPe', 'Per']\n",
      "1\n",
      "[['I'], ['am'], ['an'], ['NLPer']]\n"
     ]
    }
   ],
   "source": [
    "strings = 'I am an NLPer'\n",
    "i = 0\n",
    "\n",
    "print(n_gram(strings, i))\n",
    "print(n_gram(strings.split(' '), i))"
   ]
  },
  {
   "cell_type": "code",
   "execution_count": null,
   "metadata": {},
   "outputs": [],
   "source": []
  }
 ],
 "metadata": {
  "kernelspec": {
   "display_name": "Python 3",
   "language": "python",
   "name": "python3"
  },
  "language_info": {
   "codemirror_mode": {
    "name": "ipython",
    "version": 3
   },
   "file_extension": ".py",
   "mimetype": "text/x-python",
   "name": "python",
   "nbconvert_exporter": "python",
   "pygments_lexer": "ipython3",
   "version": "3.8.3"
  }
 },
 "nbformat": 4,
 "nbformat_minor": 4
}
