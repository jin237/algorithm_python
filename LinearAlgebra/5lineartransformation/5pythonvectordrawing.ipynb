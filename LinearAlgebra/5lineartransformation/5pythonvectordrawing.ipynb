{
 "cells": [
  {
   "cell_type": "code",
   "execution_count": 42,
   "metadata": {},
   "outputs": [],
   "source": [
    "%matplotlib inline\n",
    "\n",
    "import numpy as np\n",
    "import matplotlib.pyplot as plt"
   ]
  },
  {
   "cell_type": "code",
   "execution_count": 45,
   "metadata": {},
   "outputs": [
    {
     "name": "stderr",
     "output_type": "stream",
     "text": [
      "C:\\Users\\fgdao\\anaconda3\\lib\\site-packages\\ipykernel_launcher.py:14: MatplotlibDeprecationWarning: Adding an axes using the same arguments as a previous axes currently reuses the earlier instance.  In a future version, a new instance will always be created and returned.  Meanwhile, this warning can be suppressed, and the future behavior ensured, by passing a unique label to each axes instance.\n",
      "  \n"
     ]
    },
    {
     "data": {
      "image/png": "[encoded data removed]",
      "text/plain": [
       "<Figure size 432x288 with 1 Axes>"
      ]
     },
     "metadata": {
      "needs_background": "light"
     },
     "output_type": "display_data"
    }
   ],
   "source": [
    "plt.quiver(0, 0, 2, 3, angles=\"xy\", scale_units=\"xy\", scale=1, color=\"red\")\n",
    "plt.text(2.3, 2.5, \"[2, 3]\", color = \"red\", size =13)\n",
    "plt.quiver(0, 0, 1, -2, angles=\"xy\", scale_units=\"xy\", scale=1, color=\"blue\")\n",
    "plt.text(1.3, -2, \"[1,-2]\", color = \"blue\", size = 13)\n",
    "plt.xlim([-6,6])  \n",
    "plt.ylim([-6,6])  \n",
    "plt.xlabel(\"x\", size=10)\n",
    "plt.ylabel(\"y\", size=10)\n",
    "plt.grid(color = \"black\")\n",
    "plt.grid(which = \"minor\", axis = \"x\", color = \"gray\", alpha = 0.8,\n",
    "        linestyle = \"--\", linewidth = 1)\n",
    "plt.grid(which = \"minor\", axis = \"y\", color = \"gray\", alpha = 0.8,\n",
    "        linestyle = \"--\", linewidth = 1)\n",
    "plt.axes().set_aspect(\"equal\")  \n",
    "plt.title('Vectors')\n",
    "plt.savefig('vector.png')\n",
    "plt.show()"
   ]
  },
  {
   "cell_type": "code",
   "execution_count": null,
   "metadata": {},
   "outputs": [],
   "source": []
  }
 ],
 "metadata": {
  "celltoolbar": "Raw Cell Format",
  "kernelspec": {
   "display_name": "Python 3",
   "language": "python",
   "name": "python3"
  },
  "language_info": {
   "codemirror_mode": {
    "name": "ipython",
    "version": 3
   },
   "file_extension": ".py",
   "mimetype": "text/x-python",
   "name": "python",
   "nbconvert_exporter": "python",
   "pygments_lexer": "ipython3",
   "version": "3.7.6"
  }
 },
 "nbformat": 4,
 "nbformat_minor": 4
}
