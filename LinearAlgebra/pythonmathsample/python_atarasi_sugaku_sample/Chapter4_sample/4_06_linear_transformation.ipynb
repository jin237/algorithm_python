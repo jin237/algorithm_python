{
 "cells": [
  {
   "cell_type": "markdown",
   "metadata": {},
   "source": [
    "▲リスト4.23：ベクトルを矢印で描画する"
   ]
  },
  {
   "cell_type": "code",
   "execution_count": 1,
   "metadata": {
    "scrolled": false
   },
   "outputs": [
    {
     "name": "stderr",
     "output_type": "stream",
     "text": [
      "C:\\Users\\fgdao\\anaconda3\\lib\\site-packages\\ipykernel_launcher.py:24: MatplotlibDeprecationWarning: Adding an axes using the same arguments as a previous axes currently reuses the earlier instance.  In a future version, a new instance will always be created and returned.  Meanwhile, this warning can be suppressed, and the future behavior ensured, by passing a unique label to each axes instance.\n"
     ]
    },
    {
     "data": {
      "image/png": "[encoded data removed]",
      "text/plain": [
       "<Figure size 432x288 with 1 Axes>"
      ]
     },
     "metadata": {
      "needs_background": "light"
     },
     "output_type": "display_data"
    }
   ],
   "source": [
    "%matplotlib inline\n",
    "\n",
    "import numpy as np\n",
    "import matplotlib.pyplot as plt\n",
    "\n",
    "# 矢印を描画する関数\n",
    "def arrow(start, size, color):\n",
    "    plt.quiver(start[0], start[1], size[0], size[1], angles=\"xy\", scale_units=\"xy\", scale=1, color=color)\n",
    "\n",
    "# 矢印の始点\n",
    "s = np.array([0, 0])  # 原点\n",
    "\n",
    "# ベクトル\n",
    "a = np.array([2, 3])  # 縦ベクトルを表す\n",
    "\n",
    "arrow(s, a, color=\"black\")\n",
    "\n",
    "# グラフ表示\n",
    "plt.xlim([-3,3])  # xの表示範囲\n",
    "plt.ylim([-3,3])  # yの表示範囲\n",
    "plt.xlabel(\"x\", size=14)\n",
    "plt.ylabel(\"y\", size=14)\n",
    "plt.grid()\n",
    "plt.axes().set_aspect(\"equal\")  # 縦横比を同じに\n",
    "plt.show()"
   ]
  },
  {
   "cell_type": "markdown",
   "metadata": {},
   "source": [
    "▲リスト4.24：ベクトルの線形変換を行う"
   ]
  },
  {
   "cell_type": "code",
   "execution_count": 4,
   "metadata": {},
   "outputs": [
    {
     "name": "stdout",
     "output_type": "stream",
     "text": [
      "変換前のベクトル（a）: [2 3]\n",
      "変換後のベクトル（b）: [ 1 -2]\n"
     ]
    },
    {
     "data": {
      "image/png": "[encoded data removed]",
      "text/plain": [
       "<Figure size 432x288 with 1 Axes>"
      ]
     },
     "metadata": {
      "needs_background": "light"
     },
     "output_type": "display_data"
    }
   ],
   "source": [
    "import numpy as np\n",
    "import matplotlib.pyplot as plt\n",
    "\n",
    "a = np.array([2, 3])  # 変換前のベクトル\n",
    "\n",
    "A = np.array([[2, -1],\n",
    "                     [2, -2]])\n",
    "\n",
    "b = np.dot(A, a)  # 線形変換\n",
    "\n",
    "print(\"変換前のベクトル（a）:\", a)\n",
    "print(\"変換後のベクトル（b）:\", b)\n",
    "      \n",
    "def arrow(start, size, color):\n",
    "    plt.quiver(start[0], start[1], size[0], size[1], angles=\"xy\", scale_units=\"xy\", scale=1, color=color)\n",
    "\n",
    "s = np.array([0, 0])  # 原点\n",
    "\n",
    "arrow(s, a, color=\"black\")\n",
    "arrow(s, b, color=\"blue\")\n",
    "\n",
    "# グラフ表示\n",
    "plt.xlim([-3,3])  # xの表示範囲\n",
    "plt.ylim([-3,3])  # yの表示範囲\n",
    "plt.xlabel(\"x\", size=14)\n",
    "plt.ylabel(\"y\", size=14)\n",
    "plt.grid()\n",
    "plt.axes().set_aspect(\"equal\")  # 縦横比を同じに\n",
    "plt.show()"
   ]
  },
  {
   "cell_type": "markdown",
   "metadata": {},
   "source": [
    "▲リスト4.25：ベクトルと標準基底を描画する"
   ]
  },
  {
   "cell_type": "code",
   "execution_count": 5,
   "metadata": {},
   "outputs": [
    {
     "name": "stdout",
     "output_type": "stream",
     "text": [
      "a: [2 3]\n",
      "e_x: [1 0]\n",
      "e_y: [0 1]\n"
     ]
    },
    {
     "data": {
      "image/png": "[encoded data removed]",
      "text/plain": [
       "<Figure size 432x288 with 1 Axes>"
      ]
     },
     "metadata": {
      "needs_background": "light"
     },
     "output_type": "display_data"
    }
   ],
   "source": [
    "import numpy as np\n",
    "import matplotlib.pyplot as plt\n",
    "\n",
    "a = np.array([2, 3])\n",
    "e_x = np.array([1, 0])  # 標準基底\n",
    "e_y = np.array([0, 1])  # 標準基底\n",
    "\n",
    "print(\"a:\", a)\n",
    "print(\"e_x:\", e_x)\n",
    "print(\"e_y:\", e_y)\n",
    "      \n",
    "def arrow(start, size, color):\n",
    "    plt.quiver(start[0], start[1], size[0], size[1], angles=\"xy\", scale_units=\"xy\", scale=1, color=color)\n",
    "\n",
    "s = np.array([0, 0])  # 原点\n",
    "\n",
    "arrow(s, a, color=\"blue\")\n",
    "arrow(s, e_x, color=\"black\")\n",
    "arrow(s, e_y, color=\"black\")\n",
    "\n",
    "# グラフ表示\n",
    "plt.xlim([-3,3])  # xの表示範囲\n",
    "plt.ylim([-3,3])  # yの表示範囲\n",
    "plt.xlabel(\"x\", size=14)\n",
    "plt.ylabel(\"y\", size=14)\n",
    "plt.grid()\n",
    "plt.axes().set_aspect(\"equal\")  # 縦横比を同じに\n",
    "plt.show()"
   ]
  },
  {
   "cell_type": "markdown",
   "metadata": {},
   "source": [
    "#### □問題\n",
    "　リスト4.26のセルを補完し、ベクトル$\\vec{a}$を行列$A$で線形変換しましょう。そして、ベクトル$\\vec{a}$と変換後のベクトル$\\vec{b}$を矢印でグラフ上に表示しましょう。"
   ]
  },
  {
   "cell_type": "markdown",
   "metadata": {},
   "source": [
    "▲リスト4.26：問題"
   ]
  },
  {
   "cell_type": "code",
   "execution_count": null,
   "metadata": {},
   "outputs": [],
   "source": [
    "import numpy as np\n",
    "import matplotlib.pyplot as plt\n",
    "\n",
    "a = np.array([1, 3])  # 変換前のベクトル\n",
    "\n",
    "A = np.array([[1, -1],\n",
    "            　[2, -1]])\n",
    "\n",
    "b =       # 線形変換\n",
    "\n",
    "print(\"a:\", a)\n",
    "print(\"b:\", b)\n",
    "      \n",
    "def arrow(start, size, color):\n",
    "    plt.quiver(start[0], start[1], size[0], size[1], angles=\"xy\", scale_units=\"xy\", scale=1, color=color)\n",
    "\n",
    "s = np.array([0, 0])  # 原点\n",
    "\n",
    "arrow(s, a, color=\"black\")\n",
    "arrow(s, b, color=\"blue\")\n",
    "\n",
    "# グラフ表示\n",
    "plt.xlim([-3,3])  # xの表示範囲\n",
    "plt.ylim([-3,3])  # yの表示範囲\n",
    "plt.xlabel(\"x\", size=14)\n",
    "plt.ylabel(\"y\", size=14)\n",
    "plt.grid()\n",
    "plt.axes().set_aspect(\"equal\")  # 縦横比を同じに\n",
    "plt.show()"
   ]
  },
  {
   "cell_type": "markdown",
   "metadata": {},
   "source": [
    "#### □解答例"
   ]
  },
  {
   "cell_type": "code",
   "execution_count": 6,
   "metadata": {},
   "outputs": [
    {
     "name": "stdout",
     "output_type": "stream",
     "text": [
      "a: [1 3]\n",
      "b: [-2 -1]\n"
     ]
    },
    {
     "data": {
      "image/png": "[encoded data removed]",
      "text/plain": [
       "<Figure size 432x288 with 1 Axes>"
      ]
     },
     "metadata": {
      "needs_background": "light"
     },
     "output_type": "display_data"
    }
   ],
   "source": [
    "import numpy as np\n",
    "import matplotlib.pyplot as plt\n",
    "\n",
    "a = np.array([1, 3])  # 変換前のベクトル\n",
    "A = np.array([[1, -1],\n",
    "                     [2, -1]])\n",
    "b = np.dot(A, a)  # 線形変換\n",
    "\n",
    "print(\"a:\", a)\n",
    "print(\"b:\", b)\n",
    "      \n",
    "def arrow(start, size, color):\n",
    "    plt.quiver(start[0], start[1], size[0], size[1], angles=\"xy\", scale_units=\"xy\", scale=1, color=color)\n",
    "\n",
    "s = np.array([0, 0])  # 原点\n",
    "\n",
    "arrow(s, a, color=\"black\")\n",
    "arrow(s, b, color=\"blue\")\n",
    "\n",
    "# グラフ表示\n",
    "plt.xlim([-3,3])  # xの表示範囲\n",
    "plt.ylim([-3,3])  # yの表示範囲\n",
    "plt.xlabel(\"x\", size=14)\n",
    "plt.ylabel(\"y\", size=14)\n",
    "plt.grid()\n",
    "plt.axes().set_aspect(\"equal\")  # 縦横比を同じに\n",
    "plt.show()"
   ]
  }
 ],
 "metadata": {
  "kernelspec": {
   "display_name": "Python 3",
   "language": "python",
   "name": "python3"
  },
  "language_info": {
   "codemirror_mode": {
    "name": "ipython",
    "version": 3
   },
   "file_extension": ".py",
   "mimetype": "text/x-python",
   "name": "python",
   "nbconvert_exporter": "python",
   "pygments_lexer": "ipython3",
   "version": "3.7.4"
  }
 },
 "nbformat": 4,
 "nbformat_minor": 2
}
