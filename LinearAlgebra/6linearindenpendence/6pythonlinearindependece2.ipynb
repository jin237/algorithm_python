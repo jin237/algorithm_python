{
 "cells": [
  {
   "cell_type": "code",
   "execution_count": 64,
   "metadata": {},
   "outputs": [],
   "source": [
    "import numpy as np"
   ]
  },
  {
   "cell_type": "code",
   "execution_count": 65,
   "metadata": {},
   "outputs": [
    {
     "name": "stdout",
     "output_type": "stream",
     "text": [
      "3\n"
     ]
    }
   ],
   "source": [
    "n = int(input())"
   ]
  },
  {
   "cell_type": "code",
   "execution_count": 66,
   "metadata": {},
   "outputs": [
    {
     "name": "stdout",
     "output_type": "stream",
     "text": [
      "1\n",
      "2\n",
      "3\n",
      "3\n",
      "2\n",
      "1\n"
     ]
    }
   ],
   "source": [
    "v = list()\n",
    "w = list()\n",
    "for i in range(n):\n",
    "    vbec = int(input())\n",
    "    v.append(vbec)\n",
    "for i in range(n):\n",
    "    wbec = int(input())\n",
    "    w.append(wbec)\n",
    "v = np.array(v)\n",
    "w = np.array(w)"
   ]
  },
  {
   "cell_type": "code",
   "execution_count": 67,
   "metadata": {},
   "outputs": [
    {
     "name": "stdout",
     "output_type": "stream",
     "text": [
      "dokuritsu\n"
     ]
    }
   ],
   "source": [
    "x = list()\n",
    "c = v[0]/w[0]\n",
    "\n",
    "for i in range(n): \n",
    "    if v[i] == c*w[i]:\n",
    "        x.append(\"True\")\n",
    "        continue\n",
    "    else:\n",
    "        break\n",
    "\n",
    "if len(x) == n:\n",
    "    print(\"juzoku\")\n",
    "elif len(x) < n:\n",
    "    print(\"dokuritsu\")"
   ]
  },
  {
   "cell_type": "code",
   "execution_count": null,
   "metadata": {},
   "outputs": [],
   "source": []
  },
  {
   "cell_type": "code",
   "execution_count": null,
   "metadata": {},
   "outputs": [],
   "source": []
  }
 ],
 "metadata": {
  "kernelspec": {
   "display_name": "Python 3",
   "language": "python",
   "name": "python3"
  }
 },
 "nbformat": 4,
 "nbformat_minor": 2
}
