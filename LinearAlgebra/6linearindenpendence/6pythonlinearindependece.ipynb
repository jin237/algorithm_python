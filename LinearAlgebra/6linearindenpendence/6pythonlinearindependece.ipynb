{
 "cells": [
  {
   "cell_type": "code",
   "execution_count": 1,
   "metadata": {},
   "outputs": [],
   "source": [
    "import numpy as np"
   ]
  },
  {
   "cell_type": "code",
   "execution_count": 5,
   "metadata": {},
   "outputs": [
    {
     "name": "stdout",
     "output_type": "stream",
     "text": [
      "1\n",
      "2\n",
      "4\n",
      "8\n"
     ]
    }
   ],
   "source": [
    "v = list()\n",
    "w = list()\n",
    "for i in range(2):\n",
    "    vbec = int(input())\n",
    "    v.append(vbec)\n",
    "for i in range(2):\n",
    "    wbec = int(input())\n",
    "    w.append(wbec)\n",
    "v = np.array(v)\n",
    "w = np.array(w)"
   ]
  },
  {
   "cell_type": "code",
   "execution_count": 14,
   "metadata": {},
   "outputs": [
    {
     "name": "stdout",
     "output_type": "stream",
     "text": [
      "線形従属\n"
     ]
    }
   ],
   "source": [
    "sarrus = v[0]*v[1] - v[1]*v[0]\n",
    "if sarrus == 0:\n",
    "    print(\"線形従属\")\n",
    "else:\n",
    "    print(\"線形独立\")"
   ]
  },
  {
   "cell_type": "code",
   "execution_count": null,
   "metadata": {},
   "outputs": [],
   "source": []
  }
 ],
 "metadata": {
  "kernelspec": {
   "display_name": "Python 3",
   "language": "python",
   "name": "python3"
  },
  "language_info": {
   "codemirror_mode": {
    "name": "ipython",
    "version": 3
   },
   "file_extension": ".py",
   "mimetype": "text/x-python",
   "name": "python",
   "nbconvert_exporter": "python",
   "pygments_lexer": "ipython3",
   "version": "3.7.4"
  }
 },
 "nbformat": 4,
 "nbformat_minor": 2
}
