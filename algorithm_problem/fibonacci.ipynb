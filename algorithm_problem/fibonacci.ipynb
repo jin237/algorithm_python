{
 "cells": [
  {
   "cell_type": "code",
   "execution_count": 1,
   "metadata": {},
   "outputs": [],
   "source": [
    "# フィボナッチ数列を表示するプログラムを作成せよ。\n",
    "# a(1) = a(2) = 1\n",
    "# a(n+2) = a(n+1) + a(n)  (n >= 1) \n",
    "# <=> a(n) = a(n+2) - a(n+1) \n",
    "import time"
   ]
  },
  {
   "cell_type": "code",
   "execution_count": 3,
   "metadata": {},
   "outputs": [
    {
     "name": "stdout",
     "output_type": "stream",
     "text": [
      "6765\n",
      "elapsed_time:0.002089977264404297[sec]\n"
     ]
    }
   ],
   "source": [
    "# フィボナッチ数列の公式から立てると以下のようになる。\n",
    "# この時、nの数値を出すのに、fibonacci関数を呼び出す回数が多い。\n",
    "# よって、アルゴリズムは簡単だけど、処理が遅い。\n",
    "def fibonacci_simple(n):\n",
    "    if (n == 1) or (n == 2):\n",
    "        return 1\n",
    "    return fibonacci_simple(n - 2) + fibonacci_simple(n - 1)\n",
    "\n",
    "start = time.time()\n",
    "print(fibonacci_simple(20))\n",
    "elapsed_time = time.time() - start\n",
    "print (\"elapsed_time:{0}\".format(elapsed_time) + \"[sec]\")"
   ]
  },
  {
   "cell_type": "code",
   "execution_count": 4,
   "metadata": {},
   "outputs": [
    {
     "name": "stdout",
     "output_type": "stream",
     "text": [
      "6765\n",
      "elapsed_time:0.0002808570861816406[sec]\n"
     ]
    }
   ],
   "source": [
    "# メモ化によって処理を高速化する。\n",
    "# memoという連想配列に条件配列の値を入れている。\n",
    "# memo常にあれば、終了。なければ、計算とmemoへの挿入\n",
    "# 同じ計算をなくすことができる。\n",
    "memo = {1: 1, 2: 1}\n",
    "def fibonacci_memo(n):\n",
    "    if n in memo:\n",
    "        return memo[n]\n",
    "    memo[n] = fibonacci_memo(n - 2) + fibonacci_memo(n - 1)\n",
    "    return memo[n]\n",
    "\n",
    "start = time.time()\n",
    "print(fibonacci_memo(20))\n",
    "elapsed_time = time.time() - start\n",
    "print (\"elapsed_time:{0}\".format(elapsed_time) + \"[sec]\")"
   ]
  },
  {
   "cell_type": "code",
   "execution_count": 5,
   "metadata": {},
   "outputs": [
    {
     "name": "stdout",
     "output_type": "stream",
     "text": [
      "6765\n",
      "elapsed_time:0.00026702880859375[sec]\n"
     ]
    }
   ],
   "source": [
    "# ループを使って、求める。\n",
    "def fibonacci_loop(n):\n",
    "    fib = [1, 1]\n",
    "    for i in range(2, n):\n",
    "        fib.append(fib[i -2] + fib[i - 1])\n",
    "        \n",
    "    return fib[n - 1]\n",
    "\n",
    "start = time.time()\n",
    "print(fibonacci_loop(20))\n",
    "elapsed_time = time.time() - start\n",
    "print (\"elapsed_time:{0}\".format(elapsed_time) + \"[sec]\")"
   ]
  },
  {
   "cell_type": "code",
   "execution_count": null,
   "metadata": {},
   "outputs": [],
   "source": []
  },
  {
   "cell_type": "code",
   "execution_count": null,
   "metadata": {},
   "outputs": [],
   "source": []
  },
  {
   "cell_type": "code",
   "execution_count": null,
   "metadata": {},
   "outputs": [],
   "source": []
  },
  {
   "cell_type": "code",
   "execution_count": null,
   "metadata": {},
   "outputs": [],
   "source": []
  }
 ],
 "metadata": {
  "kernelspec": {
   "display_name": "Python 3",
   "language": "python",
   "name": "python3"
  },
  "language_info": {
   "codemirror_mode": {
    "name": "ipython",
    "version": 3
   },
   "file_extension": ".py",
   "mimetype": "text/x-python",
   "name": "python",
   "nbconvert_exporter": "python",
   "pygments_lexer": "ipython3",
   "version": "3.8.3"
  }
 },
 "nbformat": 4,
 "nbformat_minor": 4
}
