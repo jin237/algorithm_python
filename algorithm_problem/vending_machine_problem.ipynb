{
 "cells": [
  {
   "cell_type": "code",
   "execution_count": 21,
   "metadata": {},
   "outputs": [],
   "source": [
    "# vending_machine Problem\n",
    "# Stop runnning when erroring => import sys\n",
    "import sys"
   ]
  },
  {
   "cell_type": "code",
   "execution_count": 1,
   "metadata": {},
   "outputs": [
    {
     "name": "stdout",
     "output_type": "stream",
     "text": [
      "insert:1000\n",
      "product:239\n",
      "change: 761\n"
     ]
    }
   ],
   "source": [
    "insert_price = int(input('insert:'))\n",
    "product_price = int(input('product:'))\n",
    "change = insert_price - product_price\n",
    "if change >= 0:\n",
    "    print('change:', change)\n",
    "else:\n",
    "    print('Not enough money.')"
   ]
  },
  {
   "cell_type": "code",
   "execution_count": 2,
   "metadata": {},
   "outputs": [
    {
     "name": "stdout",
     "output_type": "stream",
     "text": [
      "10000:0coins\n",
      "5000:0coins\n",
      "1000:0coins\n",
      "500:1coins\n",
      "100:2coins\n",
      "50:1coins\n",
      "10:1coins\n",
      "5:0coins\n",
      "1:1coins\n"
     ]
    }
   ],
   "source": [
    "# 硬貨及び紙幣は、一円玉、五円玉、十円玉、五十円玉、百円玉、五百円玉、千円札、五千円札、一万円札がある。\n",
    "coin = [10000, 5000, 1000, 500 , 100, 50, 10, 5 ,1]\n",
    "\n",
    "for i in coin:\n",
    "    r = change // i\n",
    "    change %= i\n",
    "    print(str(i) + ':' + str(r) + 'coins')"
   ]
  },
  {
   "cell_type": "code",
   "execution_count": null,
   "metadata": {},
   "outputs": [],
   "source": []
  }
 ],
 "metadata": {
  "kernelspec": {
   "display_name": "Python 3",
   "language": "python",
   "name": "python3"
  },
  "language_info": {
   "codemirror_mode": {
    "name": "ipython",
    "version": 3
   },
   "file_extension": ".py",
   "mimetype": "text/x-python",
   "name": "python",
   "nbconvert_exporter": "python",
   "pygments_lexer": "ipython3",
   "version": "3.8.3"
  }
 },
 "nbformat": 4,
 "nbformat_minor": 4
}
