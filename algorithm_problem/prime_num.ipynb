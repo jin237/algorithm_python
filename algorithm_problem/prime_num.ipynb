{
 "cells": [
  {
   "cell_type": "code",
   "execution_count": 1,
   "metadata": {},
   "outputs": [],
   "source": [
    "# 素数判定プログラムを作成せよ。"
   ]
  },
  {
   "cell_type": "code",
   "execution_count": 6,
   "metadata": {},
   "outputs": [
    {
     "name": "stdout",
     "output_type": "stream",
     "text": [
      "2 3 5 7 11 13 17 19 23 29 31 37 41 43 47 53 59 61 67 71 73 79 83 89 97 101 103 107 109 113 127 131 137 139 149 151 157 163 167 173 179 181 191 193 197 199\n"
     ]
    }
   ],
   "source": [
    "# sieve => 素数ライブラリ\n",
    "from sympy import sieve\n",
    "print(*[i for i in sieve.primerange(1, 200)])"
   ]
  },
  {
   "cell_type": "code",
   "execution_count": 9,
   "metadata": {},
   "outputs": [
    {
     "name": "stdout",
     "output_type": "stream",
     "text": [
      "2 3 5 7 11 13 17 19 23 29 31 37 41 43 47 53 59 61 67 71 73 79 83 89 97 101 103 107 109 113 127 131 137 139 149 151 157 163 167 173 179 181 191 193 197 199\n"
     ]
    }
   ],
   "source": [
    "# エラストテネスの篩の思考\n",
    "import math\n",
    "\n",
    "def get_prime(n):\n",
    "    if n <= 1:\n",
    "        return []\n",
    "    prime = [2]\n",
    "    limit = int (math.sqrt(n))\n",
    "    \n",
    "    data = [i + 1 for i in range(2, n, 2)]\n",
    "    while limit > data[0]:\n",
    "        prime.append(data[0])\n",
    "        data = [j for j in data if j % data[0] != 0]\n",
    "        \n",
    "    return prime + data\n",
    "print(*get_prime(200))"
   ]
  },
  {
   "cell_type": "code",
   "execution_count": null,
   "metadata": {},
   "outputs": [],
   "source": []
  }
 ],
 "metadata": {
  "kernelspec": {
   "display_name": "Python 3",
   "language": "python",
   "name": "python3"
  },
  "language_info": {
   "codemirror_mode": {
    "name": "ipython",
    "version": 3
   },
   "file_extension": ".py",
   "mimetype": "text/x-python",
   "name": "python",
   "nbconvert_exporter": "python",
   "pygments_lexer": "ipython3",
   "version": "3.8.3"
  }
 },
 "nbformat": 4,
 "nbformat_minor": 4
}
