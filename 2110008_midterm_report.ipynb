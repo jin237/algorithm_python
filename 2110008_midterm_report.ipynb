{
  "nbformat": 4,
  "nbformat_minor": 0,
  "metadata": {
    "colab": {
      "name": "2110008_midterm_report.ipynb",
      "provenance": [],
      "authorship_tag": "ABX9TyMHZfobA8+0S43638K7Fz6R",
      "include_colab_link": true
    },
    "kernelspec": {
      "name": "python3",
      "display_name": "Python 3"
    },
    "language_info": {
      "name": "python"
    }
  },
  "cells": [
    {
      "cell_type": "markdown",
      "metadata": {
        "id": "view-in-github",
        "colab_type": "text"
      },
      "source": [
        "<a href=\"https://colab.research.google.com/github/jin237/algorithm_python/blob/main/2110008_midterm_report.ipynb\" target=\"_parent\"><img src=\"https://colab.research.google.com/assets/colab-badge.svg\" alt=\"Open In Colab\"/></a>"
      ]
    },
    {
      "cell_type": "markdown",
      "metadata": {
        "id": "H9-seu8K4TKM"
      },
      "source": [
        "# k-means法で，手書きの数字の画像の分類を行う．\n",
        "### 使用モジュール\n",
        "- sklearn\n",
        "- numpy\n",
        "- OpenCV\n",
        "- matplotlib\n",
        "- scipy\n"
      ]
    },
    {
      "cell_type": "code",
      "metadata": {
        "colab": {
          "base_uri": "https://localhost:8080/"
        },
        "id": "dMaPh7kp3xkW",
        "outputId": "06adf663-f9f5-4574-cf17-55ce8f015b6e"
      },
      "source": [
        "# load dataset, scikit-learn\n",
        "# utility function called load_digits in scikit-learn\n",
        "from sklearn.datasets import load_digits\n",
        "digits = load_digits()\n",
        "print(digits.data.shape)"
      ],
      "execution_count": 13,
      "outputs": [
        {
          "output_type": "stream",
          "text": [
            "(1797, 64)\n"
          ],
          "name": "stdout"
        }
      ]
    },
    {
      "cell_type": "code",
      "metadata": {
        "colab": {
          "base_uri": "https://localhost:8080/",
          "height": 197
        },
        "id": "VurvoUMW4K1j",
        "outputId": "353785b5-a8d7-43d2-819a-2de5c009a4f7"
      },
      "source": [
        "# k-means\n",
        "import cv2\n",
        "import numpy as np\n",
        "import matplotlib.pyplot as plt\n",
        "\n",
        "criteria = (cv2.TERM_CRITERIA_EPS + cv2.TERM_CRITERIA_MAX_ITER, 10 ,1.0)\n",
        "flags = cv2.KMEANS_RANDOM_CENTERS\n",
        "digits.data = digits.data.astype(np.float32)\n",
        "compactness, clusters, centers = cv2.kmeans(digits.data, 10, None, criteria, 10, flags)\n",
        "\n",
        "\n",
        "plt.style.use('ggplot')\n",
        "%matplotlib inline\n",
        "fig, ax = plt.subplots(2, 5, figsize=(8, 3))\n",
        "centers = centers.reshape(10, 8, 8)\n",
        "for axi, center in zip(ax.flat, centers):\n",
        "    axi.set(xticks=[], yticks=[])\n",
        "    axi.imshow(center, interpolation='nearest', cmap=plt.cm.binary)"
      ],
      "execution_count": 30,
      "outputs": [
        {
          "output_type": "display_data",
          "data": {
            "image/png": "[encoded data removed]",
            "text/plain": [
              "<Figure size 576x216 with 10 Axes>"
            ]
          },
          "metadata": {
            "tags": []
          }
        }
      ]
    },
    {
      "cell_type": "code",
      "metadata": {
        "colab": {
          "base_uri": "https://localhost:8080/"
        },
        "id": "u-S5jo5x4NmU",
        "outputId": "1d9f95a1-d9b2-461a-9147-bf347350026f"
      },
      "source": [
        "from scipy.stats import mode\n",
        "from sklearn.metrics import confusion_matrix\n",
        "from sklearn.metrics import accuracy_score\n",
        "\n",
        "\n",
        "labels = np.zeros_like(clusters.ravel())\n",
        "for i in range(10):\n",
        "    mask = (clusters.ravel() == i)\n",
        "    labels[mask] = mode(digits.target[mask])[0]\n",
        "\n",
        "print('混同行列 - 分類結果')\n",
        "print(confusion_matrix(digits.target, labels))\n",
        "print('正解率', accuracy_score(digits.target, labels))"
      ],
      "execution_count": 31,
      "outputs": [
        {
          "output_type": "stream",
          "text": [
            "混同行列 - 分類結果\n",
            "[[177   0   0   0   1   0   0   0   0   0]\n",
            " [  0  55  25   0   0   1   2   0  99   0]\n",
            " [  1   2 151  12   0   0   0   3   8   0]\n",
            " [  0   0   2 164   0   1   0   8   8   0]\n",
            " [  0   4   0   0 164   0   0  11   2   0]\n",
            " [  0   0   0  40   2 135   5   0   0   0]\n",
            " [  1   0   0   0   0   0 176   0   4   0]\n",
            " [  0   2   0   0   0   5   0 170   2   0]\n",
            " [  0  10   4  43   0   8   6   3 100   0]\n",
            " [  0  20   0 145   0   7   0   8   0   0]]\n",
            "正解率 0.7189760712298275\n"
          ],
          "name": "stdout"
        }
      ]
    },
    {
      "cell_type": "code",
      "metadata": {
        "id": "GXeRwhr94QOb",
        "colab": {
          "base_uri": "https://localhost:8080/"
        },
        "outputId": "6732dfb9-f4e3-45c9-c3ea-f35416ce1c85"
      },
      "source": [
        ""
      ],
      "execution_count": 33,
      "outputs": [
        {
          "output_type": "execute_result",
          "data": {
            "text/plain": [
              "0.7639955481357819"
            ]
          },
          "metadata": {
            "tags": []
          },
          "execution_count": 33
        }
      ]
    },
    {
      "cell_type": "markdown",
      "metadata": {
        "id": "VTYYs1NtsslF"
      },
      "source": [
        "上記のコードの試行回数：__10__\n",
        "\n",
        "- No.1：0.7846410684474123\n",
        "- No.2：0.7790762381747357\n",
        "- No.3：0.7762938230383973\n",
        "- No.4：0.7851975514746801\n",
        "- No.5：0.7835281023928771\n",
        "- No.6：0.7267668336115748\n",
        "- No.7：0.7835281023928771\n",
        "- No.8：0.7740678909293267\n",
        "- No.9：0.7278797996661102\n",
        "- No.10：0.7189760712298275\n",
        "\n",
        "平均：0.7639955481357819=>__76.9%__<br><br>\n",
        "全体的な混同配列から，’９’が’３’として認識されやすいことがわかる．そのことから，全体的な正解率の減少が見られる．また，’８’や’１’は左右対称の形状であることから，誤分類のデータ量が多い．しかし，0は丸として判断されやすいと予測でき，正解率は高い．"
      ]
    }
  ]
}